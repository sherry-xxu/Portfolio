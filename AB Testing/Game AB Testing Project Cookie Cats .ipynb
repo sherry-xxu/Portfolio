{
 "cells": [
  {
   "cell_type": "markdown",
   "id": "fb23aa04",
   "metadata": {},
   "source": [
    "# Mobile Games A/B Testing with Cookie Cats\n",
    "\n",
    "## Introduction\n",
    "- Cookie Cats is a popular mobile puzzle game in which the player must connect tiles of the same color in order to clear the board and win the level. \n",
    "- As players progress through the game they will encounter gates that force them to wait some time before they can progress or make an in-app purchase.\n",
    "- For this project, I will analyze the result, more specificly the impact on player _retention_, of an A/B test where the first gate in Cookie Cats was moved from level 30 to level 40.\n",
    "- The definition of player _retention_ in this project is the player comes back and play the game after installing.\n",
    "\n",
    "## Scope\n",
    "\n",
    "### Problem\n",
    "- By changing the first gate in Cookie Cats from level 30 to level 40, will the player retention rate increase or decrease? \n",
    "\n",
    "### Goal\n",
    "- Identify the association between versions and retention rates for one day and for seven days.\n",
    "    - association will be based on significance threshold 5%\n",
    "- Decide if the game should set up the first gate at level 30 or at level 40.\n",
    "- (Further research needed) Create user segmentations where different groups of users have the first gate set up at different levels.\n",
    "\n",
    "### Action\n",
    "1. Pick two groups of users randomly, each with the same number of users. The control group will install the gate_30 version where the first gate appears at level 30, and the experimental group will install the gate_40 version where the first gate appears at level 40.\n",
    "2. Count the number of rounds each group of users play during the first 14 days after install.\n",
    "3. See if the user come back and play the game again the next day and the seventh day after installing.\n",
    "4. Use Chi Sqaure contingency test to calculate the association between the two versions and retention_1 and retention_7.\n",
    "\n",
    "### Data\n",
    "- I will use 'cookie_cats.csv' dateset. It contains five columns:\n",
    "    1. userid: a unique number that identifies the player\n",
    "    2. version: whether the user is in the control group (gate_30, the first gate appears at level 30) or in the experimental group (gate_40, the first gate appears at level 40)\n",
    "    3. sum_gamerounds: the number of game rounds played by the player during the first 14 days after install.\n",
    "    4. retention_1: whether the player comes back and plays 1 day after installing.\n",
    "    5. retention_7: whether the player comes back and plays 7 days after installing.\n",
    "\n",
    "### Types Analysis Done\n",
    "- Description\n",
    "- Optimization\n",
    "- Behavior Change\n",
    "\n",
    "## Conclusion\n",
    "- There is no significant association between the two versions of game and the retention in one day; however, there is a significant association between the two version and the retention in seven days, which means that the change of the gate in the game will impact on users' retention in the longer term, although seven days is still too short to judge the overall impact.\n",
    "- The experimental group's retention is lower than the control group, meaning users are more likely to come back after seven days if the gate appears at level 30. However, it can be considered that a gate set up at a lower level will increase retention, since currently 50% of players play 16 times or fewer."
   ]
  },
  {
   "cell_type": "code",
   "execution_count": 1,
   "id": "ceb6c489",
   "metadata": {},
   "outputs": [],
   "source": [
    "import pandas as pd\n",
    "import numpy as np\n",
    "from scipy.stats import chi2_contingency\n",
    "import matplotlib.pyplot as plt\n",
    "import seaborn as sns"
   ]
  },
  {
   "cell_type": "code",
   "execution_count": 29,
   "id": "4aa3b204",
   "metadata": {},
   "outputs": [
    {
     "data": {
      "text/html": [
       "<div>\n",
       "<style scoped>\n",
       "    .dataframe tbody tr th:only-of-type {\n",
       "        vertical-align: middle;\n",
       "    }\n",
       "\n",
       "    .dataframe tbody tr th {\n",
       "        vertical-align: top;\n",
       "    }\n",
       "\n",
       "    .dataframe thead th {\n",
       "        text-align: right;\n",
       "    }\n",
       "</style>\n",
       "<table border=\"1\" class=\"dataframe\">\n",
       "  <thead>\n",
       "    <tr style=\"text-align: right;\">\n",
       "      <th></th>\n",
       "      <th>userid</th>\n",
       "      <th>version</th>\n",
       "      <th>sum_gamerounds</th>\n",
       "      <th>retention_1</th>\n",
       "      <th>retention_7</th>\n",
       "    </tr>\n",
       "  </thead>\n",
       "  <tbody>\n",
       "    <tr>\n",
       "      <th>0</th>\n",
       "      <td>116</td>\n",
       "      <td>gate_30</td>\n",
       "      <td>3</td>\n",
       "      <td>False</td>\n",
       "      <td>False</td>\n",
       "    </tr>\n",
       "    <tr>\n",
       "      <th>1</th>\n",
       "      <td>337</td>\n",
       "      <td>gate_30</td>\n",
       "      <td>38</td>\n",
       "      <td>True</td>\n",
       "      <td>False</td>\n",
       "    </tr>\n",
       "    <tr>\n",
       "      <th>2</th>\n",
       "      <td>377</td>\n",
       "      <td>gate_40</td>\n",
       "      <td>165</td>\n",
       "      <td>True</td>\n",
       "      <td>False</td>\n",
       "    </tr>\n",
       "    <tr>\n",
       "      <th>3</th>\n",
       "      <td>483</td>\n",
       "      <td>gate_40</td>\n",
       "      <td>1</td>\n",
       "      <td>False</td>\n",
       "      <td>False</td>\n",
       "    </tr>\n",
       "    <tr>\n",
       "      <th>4</th>\n",
       "      <td>488</td>\n",
       "      <td>gate_40</td>\n",
       "      <td>179</td>\n",
       "      <td>True</td>\n",
       "      <td>True</td>\n",
       "    </tr>\n",
       "  </tbody>\n",
       "</table>\n",
       "</div>"
      ],
      "text/plain": [
       "   userid  version  sum_gamerounds  retention_1  retention_7\n",
       "0     116  gate_30               3        False        False\n",
       "1     337  gate_30              38         True        False\n",
       "2     377  gate_40             165         True        False\n",
       "3     483  gate_40               1        False        False\n",
       "4     488  gate_40             179         True         True"
      ]
     },
     "execution_count": 29,
     "metadata": {},
     "output_type": "execute_result"
    }
   ],
   "source": [
    "df = pd.read_csv('cookie_cats.csv')\n",
    "df.head()"
   ]
  },
  {
   "cell_type": "code",
   "execution_count": 30,
   "id": "12396d23",
   "metadata": {},
   "outputs": [
    {
     "data": {
      "text/plain": [
       "userid            0\n",
       "version           0\n",
       "sum_gamerounds    0\n",
       "retention_1       0\n",
       "retention_7       0\n",
       "dtype: int64"
      ]
     },
     "execution_count": 30,
     "metadata": {},
     "output_type": "execute_result"
    }
   ],
   "source": [
    "# check if there is any null value\n",
    "df.isna().sum()"
   ]
  },
  {
   "cell_type": "markdown",
   "id": "627cf17b",
   "metadata": {},
   "source": [
    "No null values found in this DataFrame."
   ]
  },
  {
   "cell_type": "code",
   "execution_count": 4,
   "id": "b536efbf",
   "metadata": {},
   "outputs": [
    {
     "data": {
      "text/plain": [
       "userid             int64\n",
       "version           object\n",
       "sum_gamerounds     int64\n",
       "retention_1         bool\n",
       "retention_7         bool\n",
       "dtype: object"
      ]
     },
     "execution_count": 4,
     "metadata": {},
     "output_type": "execute_result"
    }
   ],
   "source": [
    "df.dtypes"
   ]
  },
  {
   "cell_type": "markdown",
   "id": "7081e2cd",
   "metadata": {},
   "source": [
    "The data type for 'userid' column is int64; however, it should be categorical since it is an identification for each user. I will convert it to string."
   ]
  },
  {
   "cell_type": "code",
   "execution_count": 31,
   "id": "47f7fc44",
   "metadata": {},
   "outputs": [],
   "source": [
    "df['userid'] = df['userid'].astype('str')"
   ]
  },
  {
   "cell_type": "code",
   "execution_count": 32,
   "id": "dada7603",
   "metadata": {},
   "outputs": [
    {
     "data": {
      "text/plain": [
       "(90189, 5)"
      ]
     },
     "execution_count": 32,
     "metadata": {},
     "output_type": "execute_result"
    }
   ],
   "source": [
    "df.shape"
   ]
  },
  {
   "cell_type": "markdown",
   "id": "8d285c73",
   "metadata": {},
   "source": [
    "The dataFrame has five columns and 90189 rows. I will check if there is any duplicates."
   ]
  },
  {
   "cell_type": "code",
   "execution_count": 10,
   "id": "9763b919",
   "metadata": {},
   "outputs": [
    {
     "data": {
      "text/plain": [
       "0"
      ]
     },
     "execution_count": 10,
     "metadata": {},
     "output_type": "execute_result"
    }
   ],
   "source": [
    "df.duplicated().sum()"
   ]
  },
  {
   "cell_type": "markdown",
   "id": "31305780",
   "metadata": {},
   "source": [
    "No duplicate rows in this dataframe."
   ]
  },
  {
   "cell_type": "code",
   "execution_count": 11,
   "id": "992e5554",
   "metadata": {},
   "outputs": [
    {
     "data": {
      "text/html": [
       "<div>\n",
       "<style scoped>\n",
       "    .dataframe tbody tr th:only-of-type {\n",
       "        vertical-align: middle;\n",
       "    }\n",
       "\n",
       "    .dataframe tbody tr th {\n",
       "        vertical-align: top;\n",
       "    }\n",
       "\n",
       "    .dataframe thead th {\n",
       "        text-align: right;\n",
       "    }\n",
       "</style>\n",
       "<table border=\"1\" class=\"dataframe\">\n",
       "  <thead>\n",
       "    <tr style=\"text-align: right;\">\n",
       "      <th></th>\n",
       "      <th>userid</th>\n",
       "      <th>version</th>\n",
       "      <th>sum_gamerounds</th>\n",
       "      <th>retention_1</th>\n",
       "      <th>retention_7</th>\n",
       "    </tr>\n",
       "  </thead>\n",
       "  <tbody>\n",
       "    <tr>\n",
       "      <th>count</th>\n",
       "      <td>90189</td>\n",
       "      <td>90189</td>\n",
       "      <td>90189.000000</td>\n",
       "      <td>90189</td>\n",
       "      <td>90189</td>\n",
       "    </tr>\n",
       "    <tr>\n",
       "      <th>unique</th>\n",
       "      <td>90189</td>\n",
       "      <td>2</td>\n",
       "      <td>NaN</td>\n",
       "      <td>2</td>\n",
       "      <td>2</td>\n",
       "    </tr>\n",
       "    <tr>\n",
       "      <th>top</th>\n",
       "      <td>6397153</td>\n",
       "      <td>gate_40</td>\n",
       "      <td>NaN</td>\n",
       "      <td>False</td>\n",
       "      <td>False</td>\n",
       "    </tr>\n",
       "    <tr>\n",
       "      <th>freq</th>\n",
       "      <td>1</td>\n",
       "      <td>45489</td>\n",
       "      <td>NaN</td>\n",
       "      <td>50036</td>\n",
       "      <td>73408</td>\n",
       "    </tr>\n",
       "    <tr>\n",
       "      <th>mean</th>\n",
       "      <td>NaN</td>\n",
       "      <td>NaN</td>\n",
       "      <td>51.872457</td>\n",
       "      <td>NaN</td>\n",
       "      <td>NaN</td>\n",
       "    </tr>\n",
       "    <tr>\n",
       "      <th>std</th>\n",
       "      <td>NaN</td>\n",
       "      <td>NaN</td>\n",
       "      <td>195.050858</td>\n",
       "      <td>NaN</td>\n",
       "      <td>NaN</td>\n",
       "    </tr>\n",
       "    <tr>\n",
       "      <th>min</th>\n",
       "      <td>NaN</td>\n",
       "      <td>NaN</td>\n",
       "      <td>0.000000</td>\n",
       "      <td>NaN</td>\n",
       "      <td>NaN</td>\n",
       "    </tr>\n",
       "    <tr>\n",
       "      <th>25%</th>\n",
       "      <td>NaN</td>\n",
       "      <td>NaN</td>\n",
       "      <td>5.000000</td>\n",
       "      <td>NaN</td>\n",
       "      <td>NaN</td>\n",
       "    </tr>\n",
       "    <tr>\n",
       "      <th>50%</th>\n",
       "      <td>NaN</td>\n",
       "      <td>NaN</td>\n",
       "      <td>16.000000</td>\n",
       "      <td>NaN</td>\n",
       "      <td>NaN</td>\n",
       "    </tr>\n",
       "    <tr>\n",
       "      <th>75%</th>\n",
       "      <td>NaN</td>\n",
       "      <td>NaN</td>\n",
       "      <td>51.000000</td>\n",
       "      <td>NaN</td>\n",
       "      <td>NaN</td>\n",
       "    </tr>\n",
       "    <tr>\n",
       "      <th>max</th>\n",
       "      <td>NaN</td>\n",
       "      <td>NaN</td>\n",
       "      <td>49854.000000</td>\n",
       "      <td>NaN</td>\n",
       "      <td>NaN</td>\n",
       "    </tr>\n",
       "  </tbody>\n",
       "</table>\n",
       "</div>"
      ],
      "text/plain": [
       "         userid  version  sum_gamerounds retention_1 retention_7\n",
       "count     90189    90189    90189.000000       90189       90189\n",
       "unique    90189        2             NaN           2           2\n",
       "top     6397153  gate_40             NaN       False       False\n",
       "freq          1    45489             NaN       50036       73408\n",
       "mean        NaN      NaN       51.872457         NaN         NaN\n",
       "std         NaN      NaN      195.050858         NaN         NaN\n",
       "min         NaN      NaN        0.000000         NaN         NaN\n",
       "25%         NaN      NaN        5.000000         NaN         NaN\n",
       "50%         NaN      NaN       16.000000         NaN         NaN\n",
       "75%         NaN      NaN       51.000000         NaN         NaN\n",
       "max         NaN      NaN    49854.000000         NaN         NaN"
      ]
     },
     "execution_count": 11,
     "metadata": {},
     "output_type": "execute_result"
    }
   ],
   "source": [
    "df.describe(include='all')"
   ]
  },
  {
   "cell_type": "markdown",
   "id": "8dae8995",
   "metadata": {},
   "source": [
    "Looking at the describe result, there are some interesting points:\n",
    "- the 'version' column has two unique values, gate_30 and gate_40. Gate_40 has 45489 frequency in the column meaning gate_30 has 44700 frequency. There is a 789 difference, meaning 789 more users in the experimental group.\n",
    "- in the 'sum_gamerounds' column, the mean is around 51.87, which is close to the 75 percentile of entire numbers of game rounds. The maximum value is 49854, which is **significantly higher** than the median and the mean. It means that this column's data is extremely **left skewed** and there might be outliers as well.\n",
    "- 'retention_1' column has 50036 False value where 'retention_7' column has 73408 False value; however, we still need to calculate the significance result."
   ]
  },
  {
   "cell_type": "code",
   "execution_count": 15,
   "id": "b0bee9ba",
   "metadata": {},
   "outputs": [
    {
     "data": {
      "image/png": "[encoded data removed]",
      "text/plain": [
       "<Figure size 432x288 with 1 Axes>"
      ]
     },
     "metadata": {},
     "output_type": "display_data"
    },
    {
     "data": {
      "text/plain": [
       "<Figure size 432x288 with 0 Axes>"
      ]
     },
     "metadata": {},
     "output_type": "display_data"
    }
   ],
   "source": [
    "labels = ['gate_30', 'gate_40']\n",
    "versions = [len(df[df.version == 'gate_30']), len(df[df.version == 'gate_40'])]\n",
    "\n",
    "plt.pie(versions, labels=labels, autopct='%0.1f%%', startangle=90)\n",
    "plt.axis('equal')\n",
    "plt.title('Proportion of Users Installed Two Versions')\n",
    "plt.show()\n",
    "plt.clf()"
   ]
  },
  {
   "cell_type": "code",
   "execution_count": 17,
   "id": "9045c4a7",
   "metadata": {},
   "outputs": [
    {
     "data": {
      "image/png": "[encoded data removed]",
      "text/plain": [
       "<Figure size 432x288 with 1 Axes>"
      ]
     },
     "metadata": {
      "needs_background": "light"
     },
     "output_type": "display_data"
    },
    {
     "data": {
      "text/plain": [
       "<Figure size 432x288 with 0 Axes>"
      ]
     },
     "metadata": {},
     "output_type": "display_data"
    }
   ],
   "source": [
    "sns.boxplot(data=df, x='sum_gamerounds')\n",
    "plt.title('Summary of Number of Game Rounds Played after Installing')\n",
    "plt.xlabel('Number of Play Rounds')\n",
    "plt.show()\n",
    "plt.clf()"
   ]
  },
  {
   "cell_type": "markdown",
   "id": "31eba824",
   "metadata": {},
   "source": [
    "It is clear that the maximum value of 49854 is an outlier. I will drop this outlier row and plot another boxplot."
   ]
  },
  {
   "cell_type": "code",
   "execution_count": 22,
   "id": "cd5d1909",
   "metadata": {},
   "outputs": [
    {
     "data": {
      "text/html": [
       "<div>\n",
       "<style scoped>\n",
       "    .dataframe tbody tr th:only-of-type {\n",
       "        vertical-align: middle;\n",
       "    }\n",
       "\n",
       "    .dataframe tbody tr th {\n",
       "        vertical-align: top;\n",
       "    }\n",
       "\n",
       "    .dataframe thead th {\n",
       "        text-align: right;\n",
       "    }\n",
       "</style>\n",
       "<table border=\"1\" class=\"dataframe\">\n",
       "  <thead>\n",
       "    <tr style=\"text-align: right;\">\n",
       "      <th></th>\n",
       "      <th>userid</th>\n",
       "      <th>version</th>\n",
       "      <th>sum_gamerounds</th>\n",
       "      <th>retention_1</th>\n",
       "      <th>retention_7</th>\n",
       "    </tr>\n",
       "  </thead>\n",
       "  <tbody>\n",
       "    <tr>\n",
       "      <th>57702</th>\n",
       "      <td>6390605</td>\n",
       "      <td>gate_30</td>\n",
       "      <td>49854</td>\n",
       "      <td>False</td>\n",
       "      <td>True</td>\n",
       "    </tr>\n",
       "  </tbody>\n",
       "</table>\n",
       "</div>"
      ],
      "text/plain": [
       "        userid  version  sum_gamerounds  retention_1  retention_7\n",
       "57702  6390605  gate_30           49854        False         True"
      ]
     },
     "execution_count": 22,
     "metadata": {},
     "output_type": "execute_result"
    }
   ],
   "source": [
    "df.loc[lambda df: df['sum_gamerounds'] == 49854]"
   ]
  },
  {
   "cell_type": "code",
   "execution_count": 34,
   "id": "0e8148f9",
   "metadata": {},
   "outputs": [],
   "source": [
    "df = df.drop([57702])"
   ]
  },
  {
   "cell_type": "code",
   "execution_count": 35,
   "id": "b8aaf693",
   "metadata": {},
   "outputs": [
    {
     "data": {
      "image/png": "[encoded data removed]",
      "text/plain": [
       "<Figure size 432x288 with 1 Axes>"
      ]
     },
     "metadata": {
      "needs_background": "light"
     },
     "output_type": "display_data"
    },
    {
     "data": {
      "text/plain": [
       "<Figure size 432x288 with 0 Axes>"
      ]
     },
     "metadata": {},
     "output_type": "display_data"
    }
   ],
   "source": [
    "sns.boxplot(data=df, x='sum_gamerounds')\n",
    "plt.title('Summary of Number of Game Rounds Played after Installing')\n",
    "plt.xlabel('Number of Play Rounds')\n",
    "plt.show()\n",
    "plt.clf()"
   ]
  },
  {
   "cell_type": "code",
   "execution_count": 36,
   "id": "f9a23ce3",
   "metadata": {},
   "outputs": [
    {
     "data": {
      "image/png": "[encoded data removed]",
      "text/plain": [
       "<Figure size 432x288 with 1 Axes>"
      ]
     },
     "metadata": {
      "needs_background": "light"
     },
     "output_type": "display_data"
    },
    {
     "data": {
      "text/plain": [
       "<Figure size 432x288 with 0 Axes>"
      ]
     },
     "metadata": {},
     "output_type": "display_data"
    }
   ],
   "source": [
    "# zoom in on x axis from 0 to 250\n",
    "sns.boxplot(data=df, x='sum_gamerounds')\n",
    "plt.xlim(0, 250)\n",
    "plt.title('Summary of Number of Game Rounds Played after Installing')\n",
    "plt.xlabel('Number of Play Rounds')\n",
    "plt.show()\n",
    "plt.clf()"
   ]
  },
  {
   "cell_type": "markdown",
   "id": "9541c2a3",
   "metadata": {},
   "source": [
    "According to the box plots above, we can confirm that the 'sum_gamerounds' column is highly left skewed, 75% of the data is lower than 51. Some users never played the game after installing. Now I will plot two distribution plots for the sun_playrounds data according to the versions."
   ]
  },
  {
   "cell_type": "code",
   "execution_count": 41,
   "id": "444e39e3",
   "metadata": {},
   "outputs": [
    {
     "data": {
      "image/png": "[encoded data removed]",
      "text/plain": [
       "<Figure size 432x288 with 1 Axes>"
      ]
     },
     "metadata": {
      "needs_background": "light"
     },
     "output_type": "display_data"
    },
    {
     "data": {
      "text/plain": [
       "<Figure size 432x288 with 0 Axes>"
      ]
     },
     "metadata": {},
     "output_type": "display_data"
    }
   ],
   "source": [
    "sns.kdeplot(data=df, x='sum_gamerounds', hue='version', alpha=0.5, fill=True, palette=['red', 'blue'])\n",
    "plt.title('Distribution of Number of Game Rounds Played after Installing')\n",
    "plt.xlabel('Number of Play Rounds')\n",
    "plt.show()\n",
    "plt.clf()"
   ]
  },
  {
   "cell_type": "code",
   "execution_count": 42,
   "id": "cdc3bb76",
   "metadata": {},
   "outputs": [
    {
     "data": {
      "image/png": "[encoded data removed]",
      "text/plain": [
       "<Figure size 432x288 with 1 Axes>"
      ]
     },
     "metadata": {
      "needs_background": "light"
     },
     "output_type": "display_data"
    },
    {
     "data": {
      "text/plain": [
       "<Figure size 432x288 with 0 Axes>"
      ]
     },
     "metadata": {},
     "output_type": "display_data"
    }
   ],
   "source": [
    "sns.kdeplot(data=df, x='sum_gamerounds', hue='version', alpha=0.5, fill=True, palette=['red', 'blue'])\n",
    "plt.xlim(0, 500)\n",
    "plt.title('Distribution of Number of Game Rounds Played after Installing')\n",
    "plt.xlabel('Number of Play Rounds')\n",
    "plt.show()\n",
    "plt.clf()"
   ]
  },
  {
   "cell_type": "markdown",
   "id": "a9ea8c76",
   "metadata": {},
   "source": [
    "From the kde plots, we can see that the distributions for both version are quite similar, both right skewed and density the highest from 0 to 100."
   ]
  },
  {
   "cell_type": "markdown",
   "id": "f9ba7372",
   "metadata": {},
   "source": [
    "Since for users who never played the game after installing, the retention rate will always be 0 in this project, it will not affect the significance. I will create sub dataframe with sum_playrounds greater than 0."
   ]
  },
  {
   "cell_type": "code",
   "execution_count": 44,
   "id": "fdd6dbaf",
   "metadata": {},
   "outputs": [],
   "source": [
    "df_sub = df[df['sum_gamerounds'] > 0]"
   ]
  },
  {
   "cell_type": "code",
   "execution_count": 45,
   "id": "ad6b2d46",
   "metadata": {},
   "outputs": [
    {
     "data": {
      "text/plain": [
       "(86194, 5)"
      ]
     },
     "execution_count": 45,
     "metadata": {},
     "output_type": "execute_result"
    }
   ],
   "source": [
    "df_sub.shape"
   ]
  },
  {
   "cell_type": "code",
   "execution_count": 46,
   "id": "df2632fb",
   "metadata": {},
   "outputs": [
    {
     "data": {
      "text/html": [
       "<div>\n",
       "<style scoped>\n",
       "    .dataframe tbody tr th:only-of-type {\n",
       "        vertical-align: middle;\n",
       "    }\n",
       "\n",
       "    .dataframe tbody tr th {\n",
       "        vertical-align: top;\n",
       "    }\n",
       "\n",
       "    .dataframe thead th {\n",
       "        text-align: right;\n",
       "    }\n",
       "</style>\n",
       "<table border=\"1\" class=\"dataframe\">\n",
       "  <thead>\n",
       "    <tr style=\"text-align: right;\">\n",
       "      <th></th>\n",
       "      <th>userid</th>\n",
       "      <th>version</th>\n",
       "      <th>sum_gamerounds</th>\n",
       "      <th>retention_1</th>\n",
       "      <th>retention_7</th>\n",
       "    </tr>\n",
       "  </thead>\n",
       "  <tbody>\n",
       "    <tr>\n",
       "      <th>count</th>\n",
       "      <td>86194</td>\n",
       "      <td>86194</td>\n",
       "      <td>86194.000000</td>\n",
       "      <td>86194</td>\n",
       "      <td>86194</td>\n",
       "    </tr>\n",
       "    <tr>\n",
       "      <th>unique</th>\n",
       "      <td>86194</td>\n",
       "      <td>2</td>\n",
       "      <td>NaN</td>\n",
       "      <td>2</td>\n",
       "      <td>2</td>\n",
       "    </tr>\n",
       "    <tr>\n",
       "      <th>top</th>\n",
       "      <td>6397153</td>\n",
       "      <td>gate_40</td>\n",
       "      <td>NaN</td>\n",
       "      <td>False</td>\n",
       "      <td>False</td>\n",
       "    </tr>\n",
       "    <tr>\n",
       "      <th>freq</th>\n",
       "      <td>1</td>\n",
       "      <td>43432</td>\n",
       "      <td>NaN</td>\n",
       "      <td>46128</td>\n",
       "      <td>69443</td>\n",
       "    </tr>\n",
       "    <tr>\n",
       "      <th>mean</th>\n",
       "      <td>NaN</td>\n",
       "      <td>NaN</td>\n",
       "      <td>53.698297</td>\n",
       "      <td>NaN</td>\n",
       "      <td>NaN</td>\n",
       "    </tr>\n",
       "    <tr>\n",
       "      <th>std</th>\n",
       "      <td>NaN</td>\n",
       "      <td>NaN</td>\n",
       "      <td>104.425174</td>\n",
       "      <td>NaN</td>\n",
       "      <td>NaN</td>\n",
       "    </tr>\n",
       "    <tr>\n",
       "      <th>min</th>\n",
       "      <td>NaN</td>\n",
       "      <td>NaN</td>\n",
       "      <td>1.000000</td>\n",
       "      <td>NaN</td>\n",
       "      <td>NaN</td>\n",
       "    </tr>\n",
       "    <tr>\n",
       "      <th>25%</th>\n",
       "      <td>NaN</td>\n",
       "      <td>NaN</td>\n",
       "      <td>6.000000</td>\n",
       "      <td>NaN</td>\n",
       "      <td>NaN</td>\n",
       "    </tr>\n",
       "    <tr>\n",
       "      <th>50%</th>\n",
       "      <td>NaN</td>\n",
       "      <td>NaN</td>\n",
       "      <td>18.000000</td>\n",
       "      <td>NaN</td>\n",
       "      <td>NaN</td>\n",
       "    </tr>\n",
       "    <tr>\n",
       "      <th>75%</th>\n",
       "      <td>NaN</td>\n",
       "      <td>NaN</td>\n",
       "      <td>54.000000</td>\n",
       "      <td>NaN</td>\n",
       "      <td>NaN</td>\n",
       "    </tr>\n",
       "    <tr>\n",
       "      <th>max</th>\n",
       "      <td>NaN</td>\n",
       "      <td>NaN</td>\n",
       "      <td>2961.000000</td>\n",
       "      <td>NaN</td>\n",
       "      <td>NaN</td>\n",
       "    </tr>\n",
       "  </tbody>\n",
       "</table>\n",
       "</div>"
      ],
      "text/plain": [
       "         userid  version  sum_gamerounds retention_1 retention_7\n",
       "count     86194    86194    86194.000000       86194       86194\n",
       "unique    86194        2             NaN           2           2\n",
       "top     6397153  gate_40             NaN       False       False\n",
       "freq          1    43432             NaN       46128       69443\n",
       "mean        NaN      NaN       53.698297         NaN         NaN\n",
       "std         NaN      NaN      104.425174         NaN         NaN\n",
       "min         NaN      NaN        1.000000         NaN         NaN\n",
       "25%         NaN      NaN        6.000000         NaN         NaN\n",
       "50%         NaN      NaN       18.000000         NaN         NaN\n",
       "75%         NaN      NaN       54.000000         NaN         NaN\n",
       "max         NaN      NaN     2961.000000         NaN         NaN"
      ]
     },
     "execution_count": 46,
     "metadata": {},
     "output_type": "execute_result"
    }
   ],
   "source": [
    "df_sub.describe(include='all')"
   ]
  },
  {
   "cell_type": "markdown",
   "id": "2b4190cf",
   "metadata": {},
   "source": [
    "### versions and retention_1 association"
   ]
  },
  {
   "cell_type": "code",
   "execution_count": 47,
   "id": "d4d371d9",
   "metadata": {},
   "outputs": [
    {
     "data": {
      "text/html": [
       "<div>\n",
       "<style scoped>\n",
       "    .dataframe tbody tr th:only-of-type {\n",
       "        vertical-align: middle;\n",
       "    }\n",
       "\n",
       "    .dataframe tbody tr th {\n",
       "        vertical-align: top;\n",
       "    }\n",
       "\n",
       "    .dataframe thead th {\n",
       "        text-align: right;\n",
       "    }\n",
       "</style>\n",
       "<table border=\"1\" class=\"dataframe\">\n",
       "  <thead>\n",
       "    <tr style=\"text-align: right;\">\n",
       "      <th>retention_1</th>\n",
       "      <th>False</th>\n",
       "      <th>True</th>\n",
       "    </tr>\n",
       "    <tr>\n",
       "      <th>version</th>\n",
       "      <th></th>\n",
       "      <th></th>\n",
       "    </tr>\n",
       "  </thead>\n",
       "  <tbody>\n",
       "    <tr>\n",
       "      <th>gate_30</th>\n",
       "      <td>22769</td>\n",
       "      <td>19993</td>\n",
       "    </tr>\n",
       "    <tr>\n",
       "      <th>gate_40</th>\n",
       "      <td>23359</td>\n",
       "      <td>20073</td>\n",
       "    </tr>\n",
       "  </tbody>\n",
       "</table>\n",
       "</div>"
      ],
      "text/plain": [
       "retention_1  False  True \n",
       "version                  \n",
       "gate_30      22769  19993\n",
       "gate_40      23359  20073"
      ]
     },
     "execution_count": 47,
     "metadata": {},
     "output_type": "execute_result"
    }
   ],
   "source": [
    "cont_tab = pd.crosstab(df_sub.version, df_sub.retention_1)\n",
    "cont_tab"
   ]
  },
  {
   "cell_type": "code",
   "execution_count": 49,
   "id": "f719de3f",
   "metadata": {},
   "outputs": [
    {
     "name": "stdout",
     "output_type": "stream",
     "text": [
      "0.11554308221600512\n",
      "Not significant\n"
     ]
    }
   ],
   "source": [
    "chi2, pval, dof, expected = chi2_contingency(cont_tab)\n",
    "print(pval)\n",
    "print('Significant' if pval < 0.05 else 'Not significant')"
   ]
  },
  {
   "cell_type": "markdown",
   "id": "0abe601c",
   "metadata": {},
   "source": [
    "### versions and retention_2 association"
   ]
  },
  {
   "cell_type": "code",
   "execution_count": 50,
   "id": "f62f660a",
   "metadata": {},
   "outputs": [
    {
     "data": {
      "text/html": [
       "<div>\n",
       "<style scoped>\n",
       "    .dataframe tbody tr th:only-of-type {\n",
       "        vertical-align: middle;\n",
       "    }\n",
       "\n",
       "    .dataframe tbody tr th {\n",
       "        vertical-align: top;\n",
       "    }\n",
       "\n",
       "    .dataframe thead th {\n",
       "        text-align: right;\n",
       "    }\n",
       "</style>\n",
       "<table border=\"1\" class=\"dataframe\">\n",
       "  <thead>\n",
       "    <tr style=\"text-align: right;\">\n",
       "      <th>retention_7</th>\n",
       "      <th>False</th>\n",
       "      <th>True</th>\n",
       "    </tr>\n",
       "    <tr>\n",
       "      <th>version</th>\n",
       "      <th></th>\n",
       "      <th></th>\n",
       "    </tr>\n",
       "  </thead>\n",
       "  <tbody>\n",
       "    <tr>\n",
       "      <th>gate_30</th>\n",
       "      <td>34277</td>\n",
       "      <td>8485</td>\n",
       "    </tr>\n",
       "    <tr>\n",
       "      <th>gate_40</th>\n",
       "      <td>35166</td>\n",
       "      <td>8266</td>\n",
       "    </tr>\n",
       "  </tbody>\n",
       "</table>\n",
       "</div>"
      ],
      "text/plain": [
       "retention_7  False  True \n",
       "version                  \n",
       "gate_30      34277   8485\n",
       "gate_40      35166   8266"
      ]
     },
     "execution_count": 50,
     "metadata": {},
     "output_type": "execute_result"
    }
   ],
   "source": [
    "cont_tab_2 = pd.crosstab(df_sub.version, df_sub.retention_7)\n",
    "cont_tab_2"
   ]
  },
  {
   "cell_type": "code",
   "execution_count": 51,
   "id": "6e0fa0bd",
   "metadata": {},
   "outputs": [
    {
     "name": "stdout",
     "output_type": "stream",
     "text": [
      "0.0027222297777463066\n",
      "Significant\n"
     ]
    }
   ],
   "source": [
    "chi2, pval, dof, expected = chi2_contingency(cont_tab_2)\n",
    "print(pval)\n",
    "print('Significant' if pval < 0.05 else 'Not significant')"
   ]
  }
 ],
 "metadata": {
  "kernelspec": {
   "display_name": "Python 3",
   "language": "python",
   "name": "python3"
  },
  "language_info": {
   "codemirror_mode": {
    "name": "ipython",
    "version": 3
   },
   "file_extension": ".py",
   "mimetype": "text/x-python",
   "name": "python",
   "nbconvert_exporter": "python",
   "pygments_lexer": "ipython3",
   "version": "3.8.8"
  }
 },
 "nbformat": 4,
 "nbformat_minor": 5
}

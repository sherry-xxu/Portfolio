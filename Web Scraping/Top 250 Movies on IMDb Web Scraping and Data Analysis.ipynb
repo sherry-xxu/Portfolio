{
 "cells": [
  {
   "cell_type": "markdown",
   "id": "3a36bd0a",
   "metadata": {},
   "source": [
    "### Introduction\n",
    "This project aims to scrape the information of top 250 movies on IMDb from IMDb website. Information includes the ranking of the movie, the movie name, its year of release, its IMDb rating, the movie page url, and its poster from the list page. Then by looping through the url links of each movie, I will scrape the movie's rating (PG, PG-13, R, etc.), length, genre, description, director name, writers, and stars.\n",
    "\n",
    "### Scope\n",
    "#### Problems\n",
    "Some interesting problems I expect to solve from this project:\n",
    "1. Is there an association between movie ratings and the director? Movie ratings and the stars?\n",
    "2. Which main actor/actress appears the most?\n",
    "3. Which director directed the most of the top 250 movies?\n",
    "4. Association between the ranking and IMDb rating? Ranking and movie rating?\n",
    "5. The most common genre of the top 250 movies. Any association between genre and movie rating\n",
    "6. Association between length of the movie and IMDb ranking.\n",
    "\n",
    "#### Goals\n",
    "To learn more about the IMDb rating and the movies. Discover the relationships of different factors that make these movies into top 250.\n",
    "\n",
    "#### Data\n",
    "IMDb Top 250 Movies website page: https://www.imdb.com/chart/top\n",
    "\n",
    "#### Analysis\n",
    "1. Description\n",
    "2. Detection\n",
    "3. Optimization\n",
    "\n",
    "#### Issues\n",
    "There are only "
   ]
  },
  {
   "cell_type": "code",
   "execution_count": 120,
   "id": "c77dea9d",
   "metadata": {},
   "outputs": [],
   "source": [
    "import re\n",
    "import pandas as pd\n",
    "from bs4 import BeautifulSoup\n",
    "import requests\n",
    "import numpy as np\n",
    "pd.set_option('display.max_colwidth', None)\n",
    "pd.set_option('display.max_rows', 500)"
   ]
  },
  {
   "cell_type": "code",
   "execution_count": null,
   "id": "9dc3abed",
   "metadata": {},
   "outputs": [],
   "source": [
    "# pull in website source code\n",
    "url = 'https://www.imdb.com/chart/top'\n",
    "\n",
    "page = requests.get(url)\n",
    "soup = BeautifulSoup(page.text, 'html.parser')"
   ]
  },
  {
   "cell_type": "markdown",
   "id": "1f304508",
   "metadata": {},
   "source": [
    "### Scrape List Page"
   ]
  },
  {
   "cell_type": "code",
   "execution_count": 3,
   "id": "b804f92a",
   "metadata": {},
   "outputs": [],
   "source": [
    "# create a list with all ranking\n",
    "ranking = [i for i in range(1, 251)]"
   ]
  },
  {
   "cell_type": "code",
   "execution_count": 17,
   "id": "72fc1d7e",
   "metadata": {},
   "outputs": [],
   "source": [
    "# extract the source code for the table\n",
    "table = soup.find('tbody', attrs = {'class': 'lister-list'})\n",
    "# table"
   ]
  },
  {
   "cell_type": "code",
   "execution_count": 18,
   "id": "43784122",
   "metadata": {},
   "outputs": [],
   "source": [
    "# all movie titles are inside of <a> tage, we can extract movie titles by using table.find_all('a')\n",
    "title_column = table.find_all('a')\n",
    "movie_titles = []\n",
    "for title in title_column:\n",
    "    # we find that there is a ' \\n' in between every title, we will skip this\n",
    "    if title.get_text() == ' \\n':\n",
    "        continue\n",
    "    else:\n",
    "        movie_titles.append(title.get_text())\n",
    "# movie_titles"
   ]
  },
  {
   "cell_type": "code",
   "execution_count": 7,
   "id": "d9f3713e",
   "metadata": {},
   "outputs": [
    {
     "data": {
      "text/plain": [
       "250"
      ]
     },
     "execution_count": 7,
     "metadata": {},
     "output_type": "execute_result"
    }
   ],
   "source": [
    "# test to see if the length of movie_titles equals to 250\n",
    "len(movie_titles)"
   ]
  },
  {
   "cell_type": "code",
   "execution_count": 19,
   "id": "262f4c55",
   "metadata": {},
   "outputs": [
    {
     "data": {
      "text/plain": [
       "'1994'"
      ]
     },
     "execution_count": 19,
     "metadata": {},
     "output_type": "execute_result"
    }
   ],
   "source": [
    "# extract the release year\n",
    "years_column = table.find_all('span' , attrs = {'class': 'secondaryInfo'})\n",
    "release_year = []\n",
    "for year in years_column:\n",
    "    if year.get_text() == ' \\n':\n",
    "        continue\n",
    "    else:\n",
    "        cleaned = year.get_text().replace('(', '')\n",
    "        cleaned = cleaned.replace(')', '')\n",
    "        release_year.append(cleaned)\n",
    "\n",
    "release_year[0]"
   ]
  },
  {
   "cell_type": "code",
   "execution_count": 12,
   "id": "df3de947",
   "metadata": {},
   "outputs": [
    {
     "data": {
      "text/plain": [
       "250"
      ]
     },
     "execution_count": 12,
     "metadata": {},
     "output_type": "execute_result"
    }
   ],
   "source": [
    "len(release_year)"
   ]
  },
  {
   "cell_type": "code",
   "execution_count": 20,
   "id": "f7be4e31",
   "metadata": {},
   "outputs": [
    {
     "data": {
      "text/plain": [
       "9.2"
      ]
     },
     "execution_count": 20,
     "metadata": {},
     "output_type": "execute_result"
    }
   ],
   "source": [
    "# extract imdb ratings\n",
    "imdb_rating_column = table.find_all('strong')\n",
    "imdb_rating = []\n",
    "for rating in imdb_rating_column:\n",
    "    if rating.get_text() == ' \\n':\n",
    "        continue\n",
    "    else:\n",
    "        imdb_rating.append(float(rating.get_text()))\n",
    "imdb_rating[0]"
   ]
  },
  {
   "cell_type": "code",
   "execution_count": 21,
   "id": "bf0d4f1f",
   "metadata": {},
   "outputs": [
    {
     "data": {
      "text/plain": [
       "250"
      ]
     },
     "execution_count": 21,
     "metadata": {},
     "output_type": "execute_result"
    }
   ],
   "source": [
    "len(imdb_rating)"
   ]
  },
  {
   "cell_type": "code",
   "execution_count": 25,
   "id": "a951d15f",
   "metadata": {},
   "outputs": [
    {
     "data": {
      "text/plain": [
       "'https://www.imdb.com/title/tt0111161/'"
      ]
     },
     "execution_count": 25,
     "metadata": {},
     "output_type": "execute_result"
    }
   ],
   "source": [
    "# extract the url of each movie page\n",
    "parent = table.find_all('td', {'class' : 'titleColumn'})\n",
    "movie_url = []\n",
    "base_url = 'https://www.imdb.com'\n",
    "for item in parent:\n",
    "    a = item.find('a')\n",
    "    movie_url.append(base_url + a['href'])\n",
    "movie_url[0]"
   ]
  },
  {
   "cell_type": "code",
   "execution_count": 23,
   "id": "c0fb37aa",
   "metadata": {},
   "outputs": [
    {
     "data": {
      "text/plain": [
       "250"
      ]
     },
     "execution_count": 23,
     "metadata": {},
     "output_type": "execute_result"
    }
   ],
   "source": [
    "len(movie_url)"
   ]
  },
  {
   "cell_type": "code",
   "execution_count": 26,
   "id": "23a59869",
   "metadata": {},
   "outputs": [
    {
     "data": {
      "text/html": [
       "<div>\n",
       "<style scoped>\n",
       "    .dataframe tbody tr th:only-of-type {\n",
       "        vertical-align: middle;\n",
       "    }\n",
       "\n",
       "    .dataframe tbody tr th {\n",
       "        vertical-align: top;\n",
       "    }\n",
       "\n",
       "    .dataframe thead th {\n",
       "        text-align: right;\n",
       "    }\n",
       "</style>\n",
       "<table border=\"1\" class=\"dataframe\">\n",
       "  <thead>\n",
       "    <tr style=\"text-align: right;\">\n",
       "      <th></th>\n",
       "      <th>ranking</th>\n",
       "      <th>movie_name</th>\n",
       "      <th>release_year</th>\n",
       "      <th>imdb_rating</th>\n",
       "      <th>movie_page_url</th>\n",
       "    </tr>\n",
       "  </thead>\n",
       "  <tbody>\n",
       "    <tr>\n",
       "      <th>0</th>\n",
       "      <td>1</td>\n",
       "      <td>The Shawshank Redemption</td>\n",
       "      <td>1994</td>\n",
       "      <td>9.2</td>\n",
       "      <td>https://www.imdb.com/title/tt0111161/</td>\n",
       "    </tr>\n",
       "    <tr>\n",
       "      <th>1</th>\n",
       "      <td>2</td>\n",
       "      <td>The Godfather</td>\n",
       "      <td>1972</td>\n",
       "      <td>9.1</td>\n",
       "      <td>https://www.imdb.com/title/tt0068646/</td>\n",
       "    </tr>\n",
       "    <tr>\n",
       "      <th>2</th>\n",
       "      <td>3</td>\n",
       "      <td>The Godfather: Part II</td>\n",
       "      <td>1974</td>\n",
       "      <td>9.0</td>\n",
       "      <td>https://www.imdb.com/title/tt0071562/</td>\n",
       "    </tr>\n",
       "    <tr>\n",
       "      <th>3</th>\n",
       "      <td>4</td>\n",
       "      <td>The Dark Knight</td>\n",
       "      <td>2008</td>\n",
       "      <td>9.0</td>\n",
       "      <td>https://www.imdb.com/title/tt0468569/</td>\n",
       "    </tr>\n",
       "    <tr>\n",
       "      <th>4</th>\n",
       "      <td>5</td>\n",
       "      <td>12 Angry Men</td>\n",
       "      <td>1957</td>\n",
       "      <td>8.9</td>\n",
       "      <td>https://www.imdb.com/title/tt0050083/</td>\n",
       "    </tr>\n",
       "  </tbody>\n",
       "</table>\n",
       "</div>"
      ],
      "text/plain": [
       "   ranking                movie_name release_year  imdb_rating  \\\n",
       "0        1  The Shawshank Redemption         1994          9.2   \n",
       "1        2             The Godfather         1972          9.1   \n",
       "2        3    The Godfather: Part II         1974          9.0   \n",
       "3        4           The Dark Knight         2008          9.0   \n",
       "4        5              12 Angry Men         1957          8.9   \n",
       "\n",
       "                          movie_page_url  \n",
       "0  https://www.imdb.com/title/tt0111161/  \n",
       "1  https://www.imdb.com/title/tt0068646/  \n",
       "2  https://www.imdb.com/title/tt0071562/  \n",
       "3  https://www.imdb.com/title/tt0468569/  \n",
       "4  https://www.imdb.com/title/tt0050083/  "
      ]
     },
     "execution_count": 26,
     "metadata": {},
     "output_type": "execute_result"
    }
   ],
   "source": [
    "# create first dataframe with all the information we have extracted\n",
    "# first create a dictionary\n",
    "movie_dict = {\n",
    "    'ranking': ranking,\n",
    "    'movie_name': movie_titles,\n",
    "    'release_year': release_year,\n",
    "    'imdb_rating': imdb_rating,\n",
    "    'movie_page_url': movie_url\n",
    "}\n",
    "\n",
    "# convert the dictionary into a dataframe\n",
    "movies = pd.DataFrame(movie_dict)\n",
    "\n",
    "movies.head()"
   ]
  },
  {
   "cell_type": "code",
   "execution_count": 91,
   "id": "a01bb7b9",
   "metadata": {},
   "outputs": [
    {
     "data": {
      "text/html": [
       "<div>\n",
       "<style scoped>\n",
       "    .dataframe tbody tr th:only-of-type {\n",
       "        vertical-align: middle;\n",
       "    }\n",
       "\n",
       "    .dataframe tbody tr th {\n",
       "        vertical-align: top;\n",
       "    }\n",
       "\n",
       "    .dataframe thead th {\n",
       "        text-align: right;\n",
       "    }\n",
       "</style>\n",
       "<table border=\"1\" class=\"dataframe\">\n",
       "  <thead>\n",
       "    <tr style=\"text-align: right;\">\n",
       "      <th></th>\n",
       "      <th>ranking</th>\n",
       "      <th>movie_name</th>\n",
       "      <th>release_year</th>\n",
       "      <th>imdb_rating</th>\n",
       "      <th>movie_page_url</th>\n",
       "    </tr>\n",
       "  </thead>\n",
       "  <tbody>\n",
       "    <tr>\n",
       "      <th>77</th>\n",
       "      <td>78</td>\n",
       "      <td>Das Boot</td>\n",
       "      <td>1981</td>\n",
       "      <td>8.3</td>\n",
       "      <td>https://www.imdb.com/title/tt0082096/</td>\n",
       "    </tr>\n",
       "  </tbody>\n",
       "</table>\n",
       "</div>"
      ],
      "text/plain": [
       "    ranking movie_name release_year  imdb_rating  \\\n",
       "77       78   Das Boot         1981          8.3   \n",
       "\n",
       "                           movie_page_url  \n",
       "77  https://www.imdb.com/title/tt0082096/  "
      ]
     },
     "execution_count": 91,
     "metadata": {},
     "output_type": "execute_result"
    }
   ],
   "source": [
    "movies[movies.movie_name == 'Das Boot']"
   ]
  },
  {
   "cell_type": "markdown",
   "id": "87244d53",
   "metadata": {},
   "source": [
    "### Scrape Individual Movie Page"
   ]
  },
  {
   "cell_type": "code",
   "execution_count": 169,
   "id": "c8450abf",
   "metadata": {},
   "outputs": [],
   "source": [
    "# first, extract the information from the first movie ('The Shawshank Redemption') page\n",
    "movie_page = movie_url[0]\n",
    "movie_page_info = requests.get(movie_page)\n",
    "movie_soup = BeautifulSoup(movie_page_info.text, 'html.parser')"
   ]
  },
  {
   "cell_type": "code",
   "execution_count": 170,
   "id": "1693cecf",
   "metadata": {},
   "outputs": [
    {
     "data": {
      "text/plain": [
       "'R'"
      ]
     },
     "execution_count": 170,
     "metadata": {},
     "output_type": "execute_result"
    }
   ],
   "source": [
    "# movie rating\n",
    "info_list = movie_soup.find_all('span', attrs = {'class': 'TitleBlockMetaData__ListItemText-sc-12ein40-2 jedhex'})\n",
    "element_list = []\n",
    "for element in info_list:\n",
    "    element_list.append(element.get_text())\n",
    "\n",
    "movie_rating = element_list[1]\n",
    "movie_rating"
   ]
  },
  {
   "cell_type": "code",
   "execution_count": 171,
   "id": "f25c8aed",
   "metadata": {},
   "outputs": [
    {
     "data": {
      "text/plain": [
       "'2h 22m'"
      ]
     },
     "execution_count": 171,
     "metadata": {},
     "output_type": "execute_result"
    }
   ],
   "source": [
    "# movie length\n",
    "info_list1 = movie_soup.find_all('li', attrs={'class': 'ipc-inline-list__item'})\n",
    "runtime = info_list1[2].get_text()\n",
    "runtime"
   ]
  },
  {
   "cell_type": "code",
   "execution_count": 172,
   "id": "022bf81d",
   "metadata": {},
   "outputs": [
    {
     "data": {
      "text/plain": [
       "'Drama'"
      ]
     },
     "execution_count": 172,
     "metadata": {},
     "output_type": "execute_result"
    }
   ],
   "source": [
    "# movie genre\n",
    "genre = movie_soup.find('a', attrs={'class': 'GenresAndPlot__GenreChip-sc-cum89p-3 LKJMs ipc-chip ipc-chip--on-baseAlt'})\n",
    "genre = genre.get_text()\n",
    "genre"
   ]
  },
  {
   "cell_type": "code",
   "execution_count": 173,
   "id": "c5a9a9a6",
   "metadata": {},
   "outputs": [
    {
     "data": {
      "text/plain": [
       "'Two imprisoned men bond over a number of years, finding solace and eventual redemption through acts of common decency.'"
      ]
     },
     "execution_count": 173,
     "metadata": {},
     "output_type": "execute_result"
    }
   ],
   "source": [
    "# movie description\n",
    "description = movie_soup.find('span', attrs={'class': 'GenresAndPlot__TextContainerBreakpointL-sc-cum89p-1 eqlIrG'})\n",
    "description = description.get_text()\n",
    "description"
   ]
  },
  {
   "cell_type": "code",
   "execution_count": 174,
   "id": "3275610a",
   "metadata": {},
   "outputs": [
    {
     "data": {
      "text/plain": [
       "'Frank Darabont'"
      ]
     },
     "execution_count": 174,
     "metadata": {},
     "output_type": "execute_result"
    }
   ],
   "source": [
    "# movie director\n",
    "director = movie_soup.find('a', attrs={'class': 'ipc-metadata-list-item__list-content-item ipc-metadata-list-item__list-content-item--link'}).get_text()\n",
    "director"
   ]
  },
  {
   "cell_type": "code",
   "execution_count": 175,
   "id": "a94992a3",
   "metadata": {},
   "outputs": [
    {
     "data": {
      "text/plain": [
       "'Frank Darabont|Stephen King'"
      ]
     },
     "execution_count": 175,
     "metadata": {},
     "output_type": "execute_result"
    }
   ],
   "source": [
    "# writers\n",
    "writer_list = []\n",
    "writers = movie_soup.find_all('a', attrs={'class': 'ipc-metadata-list-item__list-content-item ipc-metadata-list-item__list-content-item--link'})\n",
    "for writer in writers[:2]:\n",
    "    writer_list.append(writer.get_text())\n",
    "writer_list\n",
    "\n",
    "# convert list into one string\n",
    "delimiter = '|'\n",
    "movie_writer = delimiter.join(writer_list)\n",
    "movie_writer"
   ]
  },
  {
   "cell_type": "code",
   "execution_count": 176,
   "id": "2e55d29e",
   "metadata": {},
   "outputs": [
    {
     "data": {
      "text/plain": [
       "'Tim Robbins|Morgan Freeman'"
      ]
     },
     "execution_count": 176,
     "metadata": {},
     "output_type": "execute_result"
    }
   ],
   "source": [
    "# two main actors/actress\n",
    "actor_list = []\n",
    "actors = movie_soup.find_all('a', attrs={'class': 'StyledComponents__ActorName-sc-y9ygcu-1 ezTgkS'})\n",
    "for actor in actors[:2]:\n",
    "    actor_list.append(actor.get_text())\n",
    "\n",
    "# convert list into a string\n",
    "main_actors = delimiter.join(actor_list)\n",
    "main_actors"
   ]
  },
  {
   "cell_type": "code",
   "execution_count": 177,
   "id": "d22e7f98",
   "metadata": {},
   "outputs": [],
   "source": [
    "def get_page_info(url):\n",
    "    page_url = url\n",
    "    response = requests.get(page_url)\n",
    "    if response.status_code != 200:\n",
    "        raise Exception('Failed to load page {}'.format(page_url))\n",
    "    movie_soup = BeautifulSoup(response.text, 'html.parser')\n",
    "    return movie_soup"
   ]
  },
  {
   "cell_type": "code",
   "execution_count": 189,
   "id": "86c16dbf",
   "metadata": {},
   "outputs": [],
   "source": [
    "# now we can build a function that scrape these information from every movie page\n",
    "def get_movie_info(movie_url):\n",
    "    \n",
    "    movie_soup = get_page_info(movie_url)\n",
    "    \n",
    "    # movie rating & runtime\n",
    "    ## on some movie pages, there is no rating, thus I use if statement so these pages will return 'not rated'\n",
    "    ## when there is no rating, info_list1[2] is not runtime, instead runtime is at info_list1[1]\n",
    "    rating = [element.get_text() for element in movie_soup.find_all('span', attrs = {'class': 'TitleBlockMetaData__ListItemText-sc-12ein40-2 jedhex'})]\n",
    "    info_list1 = movie_soup.find_all('li', attrs={'class': 'ipc-inline-list__item'})\n",
    "    if len(rating) < 2:\n",
    "        rating = 'Not Rated'\n",
    "        runtime = info_list1[1].get_text()\n",
    "    else:\n",
    "        rating = rating[1]\n",
    "        runtime = info_list1[2].get_text()\n",
    "        \n",
    "    # genre\n",
    "    genre = movie_soup.find('a', attrs={'class': 'GenresAndPlot__GenreChip-sc-cum89p-3 LKJMs ipc-chip ipc-chip--on-baseAlt'}).get_text()\n",
    "        \n",
    "    # summary\n",
    "    summary = movie_soup.find('span', attrs={'class': 'GenresAndPlot__TextContainerBreakpointL-sc-cum89p-1 eqlIrG'}).get_text()\n",
    "        \n",
    "    # director\n",
    "    director = movie_soup.find('a', attrs={'class': 'ipc-metadata-list-item__list-content-item ipc-metadata-list-item__list-content-item--link'}).get_text()\n",
    "        \n",
    "    # writers\n",
    "    writer_list = [writer.get_text() for writer in movie_soup.find_all('a', attrs={'class': 'ipc-metadata-list-item__list-content-item ipc-metadata-list-item__list-content-item--link'})]\n",
    "    writer_list = writer_list[:2]\n",
    "    delimiter = '|'\n",
    "    writers = delimiter.join(writer_list)\n",
    "        \n",
    "    #actors\n",
    "    actor_list = [actor.get_text() for actor in movie_soup.find_all('a', attrs={'class': 'StyledComponents__ActorName-sc-y9ygcu-1 ezTgkS'})]\n",
    "    actor_list = actor_list[:2]\n",
    "    main_actors = delimiter.join(actor_list)\n",
    "        \n",
    "    return rating, runtime, genre, summary, director, writers, main_actors"
   ]
  },
  {
   "cell_type": "code",
   "execution_count": 190,
   "id": "fb2b895e",
   "metadata": {},
   "outputs": [
    {
     "data": {
      "text/plain": [
       "('R',\n",
       " '2h 22m',\n",
       " 'Drama',\n",
       " 'Two imprisoned men bond over a number of years, finding solace and eventual redemption through acts of common decency.',\n",
       " 'Frank Darabont',\n",
       " 'Frank Darabont|Stephen King',\n",
       " 'Tim Robbins|Morgan Freeman')"
      ]
     },
     "execution_count": 190,
     "metadata": {},
     "output_type": "execute_result"
    }
   ],
   "source": [
    "get_movie_info(movie_url[0])"
   ]
  },
  {
   "cell_type": "code",
   "execution_count": 180,
   "id": "4f8b60f1",
   "metadata": {},
   "outputs": [
    {
     "data": {
      "text/plain": [
       "('PG-13',\n",
       " '2h 32m',\n",
       " 'Action',\n",
       " 'When the menace known as the Joker wreaks havoc and chaos on the people of Gotham, Batman must accept one of the greatest psychological and physical tests of his ability to fight injustice.',\n",
       " 'Christopher Nolan',\n",
       " 'Christopher Nolan|Jonathan Nolan',\n",
       " 'Christian Bale|Heath Ledger')"
      ]
     },
     "execution_count": 180,
     "metadata": {},
     "output_type": "execute_result"
    }
   ],
   "source": [
    "get_movie_info(movie_url[3])"
   ]
  },
  {
   "cell_type": "code",
   "execution_count": 193,
   "id": "606af6bf",
   "metadata": {},
   "outputs": [
    {
     "data": {
      "text/plain": [
       "('not rated',\n",
       " '1h 57m',\n",
       " 'Animation',\n",
       " 'Warrior and pacifist Princess Nausicaä desperately struggles to prevent two warring nations from destroying themselves and their dying planet.',\n",
       " 'Hayao Miyazaki',\n",
       " 'Hayao Miyazaki|Hayao Miyazaki',\n",
       " 'Sumi Shimamoto|Mahito Tsujimura')"
      ]
     },
     "execution_count": 193,
     "metadata": {},
     "output_type": "execute_result"
    }
   ],
   "source": [
    "get_movie_info(movie_url[239])"
   ]
  },
  {
   "cell_type": "code",
   "execution_count": 194,
   "id": "1d598c49",
   "metadata": {},
   "outputs": [],
   "source": [
    "movie_dict2 = {\n",
    "    'runtime': [],\n",
    "    'rating': [],\n",
    "    'genre': [],\n",
    "    'director': [],\n",
    "    'writers': [],\n",
    "    'main_actors': [],\n",
    "    'summary': []\n",
    "}\n",
    "\n",
    "for i in range(len(movie_url)):\n",
    "    details = get_movie_info(movie_url[i])\n",
    "    \n",
    "    movie_dict2['runtime'].append(details[1])\n",
    "    movie_dict2['rating'].append(details[0])\n",
    "    movie_dict2['genre'].append(details[2])\n",
    "    movie_dict2['director'].append(details[4])\n",
    "    movie_dict2['writers'].append(details[5])\n",
    "    movie_dict2['main_actors'].append(details[6])\n",
    "    movie_dict2['summary'].append(details[3])"
   ]
  },
  {
   "cell_type": "code",
   "execution_count": 195,
   "id": "3fa8b83a",
   "metadata": {},
   "outputs": [
    {
     "data": {
      "text/html": [
       "<div>\n",
       "<style scoped>\n",
       "    .dataframe tbody tr th:only-of-type {\n",
       "        vertical-align: middle;\n",
       "    }\n",
       "\n",
       "    .dataframe tbody tr th {\n",
       "        vertical-align: top;\n",
       "    }\n",
       "\n",
       "    .dataframe thead th {\n",
       "        text-align: right;\n",
       "    }\n",
       "</style>\n",
       "<table border=\"1\" class=\"dataframe\">\n",
       "  <thead>\n",
       "    <tr style=\"text-align: right;\">\n",
       "      <th></th>\n",
       "      <th>runtime</th>\n",
       "      <th>rating</th>\n",
       "      <th>genre</th>\n",
       "      <th>director</th>\n",
       "      <th>writers</th>\n",
       "      <th>main_actors</th>\n",
       "      <th>summary</th>\n",
       "    </tr>\n",
       "  </thead>\n",
       "  <tbody>\n",
       "    <tr>\n",
       "      <th>0</th>\n",
       "      <td>2h 22m</td>\n",
       "      <td>R</td>\n",
       "      <td>Drama</td>\n",
       "      <td>Frank Darabont</td>\n",
       "      <td>Frank Darabont|Stephen King</td>\n",
       "      <td>Tim Robbins|Morgan Freeman</td>\n",
       "      <td>Two imprisoned men bond over a number of years, finding solace and eventual redemption through acts of common decency.</td>\n",
       "    </tr>\n",
       "    <tr>\n",
       "      <th>1</th>\n",
       "      <td>2h 55m</td>\n",
       "      <td>R</td>\n",
       "      <td>Crime</td>\n",
       "      <td>Francis Ford Coppola</td>\n",
       "      <td>Francis Ford Coppola|Mario Puzo</td>\n",
       "      <td>Marlon Brando|Al Pacino</td>\n",
       "      <td>The aging patriarch of an organized crime dynasty in postwar New York City transfers control of his clandestine empire to his reluctant youngest son.</td>\n",
       "    </tr>\n",
       "    <tr>\n",
       "      <th>2</th>\n",
       "      <td>3h 22m</td>\n",
       "      <td>R</td>\n",
       "      <td>Crime</td>\n",
       "      <td>Francis Ford Coppola</td>\n",
       "      <td>Francis Ford Coppola|Francis Ford Coppola</td>\n",
       "      <td>Al Pacino|Robert De Niro</td>\n",
       "      <td>The early life and career of Vito Corleone in 1920s New York City is portrayed, while his son, Michael, expands and tightens his grip on the family crime syndicate.</td>\n",
       "    </tr>\n",
       "    <tr>\n",
       "      <th>3</th>\n",
       "      <td>2h 32m</td>\n",
       "      <td>PG-13</td>\n",
       "      <td>Action</td>\n",
       "      <td>Christopher Nolan</td>\n",
       "      <td>Christopher Nolan|Jonathan Nolan</td>\n",
       "      <td>Christian Bale|Heath Ledger</td>\n",
       "      <td>When the menace known as the Joker wreaks havoc and chaos on the people of Gotham, Batman must accept one of the greatest psychological and physical tests of his ability to fight injustice.</td>\n",
       "    </tr>\n",
       "    <tr>\n",
       "      <th>4</th>\n",
       "      <td>1h 36m</td>\n",
       "      <td>Approved</td>\n",
       "      <td>Crime</td>\n",
       "      <td>Sidney Lumet</td>\n",
       "      <td>Sidney Lumet|Reginald Rose</td>\n",
       "      <td>Henry Fonda|Lee J. Cobb</td>\n",
       "      <td>The jury in a New York City murder trial is frustrated by a single member whose skeptical caution forces them to more carefully consider the evidence before jumping to a hasty verdict.</td>\n",
       "    </tr>\n",
       "  </tbody>\n",
       "</table>\n",
       "</div>"
      ],
      "text/plain": [
       "  runtime    rating   genre              director  \\\n",
       "0  2h 22m         R   Drama        Frank Darabont   \n",
       "1  2h 55m         R   Crime  Francis Ford Coppola   \n",
       "2  3h 22m         R   Crime  Francis Ford Coppola   \n",
       "3  2h 32m     PG-13  Action     Christopher Nolan   \n",
       "4  1h 36m  Approved   Crime          Sidney Lumet   \n",
       "\n",
       "                                     writers                  main_actors  \\\n",
       "0                Frank Darabont|Stephen King   Tim Robbins|Morgan Freeman   \n",
       "1            Francis Ford Coppola|Mario Puzo      Marlon Brando|Al Pacino   \n",
       "2  Francis Ford Coppola|Francis Ford Coppola     Al Pacino|Robert De Niro   \n",
       "3           Christopher Nolan|Jonathan Nolan  Christian Bale|Heath Ledger   \n",
       "4                 Sidney Lumet|Reginald Rose      Henry Fonda|Lee J. Cobb   \n",
       "\n",
       "                                                                                                                                                                                         summary  \n",
       "0                                                                         Two imprisoned men bond over a number of years, finding solace and eventual redemption through acts of common decency.  \n",
       "1                                          The aging patriarch of an organized crime dynasty in postwar New York City transfers control of his clandestine empire to his reluctant youngest son.  \n",
       "2                           The early life and career of Vito Corleone in 1920s New York City is portrayed, while his son, Michael, expands and tightens his grip on the family crime syndicate.  \n",
       "3  When the menace known as the Joker wreaks havoc and chaos on the people of Gotham, Batman must accept one of the greatest psychological and physical tests of his ability to fight injustice.  \n",
       "4       The jury in a New York City murder trial is frustrated by a single member whose skeptical caution forces them to more carefully consider the evidence before jumping to a hasty verdict.  "
      ]
     },
     "execution_count": 195,
     "metadata": {},
     "output_type": "execute_result"
    }
   ],
   "source": [
    "movie_details_df = pd.DataFrame(movie_dict2)\n",
    "movie_details_df.head()"
   ]
  },
  {
   "cell_type": "code",
   "execution_count": 196,
   "id": "e3e9e00d",
   "metadata": {},
   "outputs": [
    {
     "data": {
      "text/html": [
       "<div>\n",
       "<style scoped>\n",
       "    .dataframe tbody tr th:only-of-type {\n",
       "        vertical-align: middle;\n",
       "    }\n",
       "\n",
       "    .dataframe tbody tr th {\n",
       "        vertical-align: top;\n",
       "    }\n",
       "\n",
       "    .dataframe thead th {\n",
       "        text-align: right;\n",
       "    }\n",
       "</style>\n",
       "<table border=\"1\" class=\"dataframe\">\n",
       "  <thead>\n",
       "    <tr style=\"text-align: right;\">\n",
       "      <th></th>\n",
       "      <th>ranking</th>\n",
       "      <th>movie_name</th>\n",
       "      <th>release_year</th>\n",
       "      <th>imdb_rating</th>\n",
       "      <th>movie_page_url</th>\n",
       "      <th>runtime</th>\n",
       "      <th>rating</th>\n",
       "      <th>genre</th>\n",
       "      <th>director</th>\n",
       "      <th>writers</th>\n",
       "      <th>main_actors</th>\n",
       "      <th>summary</th>\n",
       "    </tr>\n",
       "  </thead>\n",
       "  <tbody>\n",
       "    <tr>\n",
       "      <th>0</th>\n",
       "      <td>1</td>\n",
       "      <td>The Shawshank Redemption</td>\n",
       "      <td>1994</td>\n",
       "      <td>9.2</td>\n",
       "      <td>https://www.imdb.com/title/tt0111161/</td>\n",
       "      <td>2h 22m</td>\n",
       "      <td>R</td>\n",
       "      <td>Drama</td>\n",
       "      <td>Frank Darabont</td>\n",
       "      <td>Frank Darabont|Stephen King</td>\n",
       "      <td>Tim Robbins|Morgan Freeman</td>\n",
       "      <td>Two imprisoned men bond over a number of years, finding solace and eventual redemption through acts of common decency.</td>\n",
       "    </tr>\n",
       "    <tr>\n",
       "      <th>1</th>\n",
       "      <td>2</td>\n",
       "      <td>The Godfather</td>\n",
       "      <td>1972</td>\n",
       "      <td>9.1</td>\n",
       "      <td>https://www.imdb.com/title/tt0068646/</td>\n",
       "      <td>2h 55m</td>\n",
       "      <td>R</td>\n",
       "      <td>Crime</td>\n",
       "      <td>Francis Ford Coppola</td>\n",
       "      <td>Francis Ford Coppola|Mario Puzo</td>\n",
       "      <td>Marlon Brando|Al Pacino</td>\n",
       "      <td>The aging patriarch of an organized crime dynasty in postwar New York City transfers control of his clandestine empire to his reluctant youngest son.</td>\n",
       "    </tr>\n",
       "    <tr>\n",
       "      <th>2</th>\n",
       "      <td>3</td>\n",
       "      <td>The Godfather: Part II</td>\n",
       "      <td>1974</td>\n",
       "      <td>9.0</td>\n",
       "      <td>https://www.imdb.com/title/tt0071562/</td>\n",
       "      <td>3h 22m</td>\n",
       "      <td>R</td>\n",
       "      <td>Crime</td>\n",
       "      <td>Francis Ford Coppola</td>\n",
       "      <td>Francis Ford Coppola|Francis Ford Coppola</td>\n",
       "      <td>Al Pacino|Robert De Niro</td>\n",
       "      <td>The early life and career of Vito Corleone in 1920s New York City is portrayed, while his son, Michael, expands and tightens his grip on the family crime syndicate.</td>\n",
       "    </tr>\n",
       "    <tr>\n",
       "      <th>3</th>\n",
       "      <td>4</td>\n",
       "      <td>The Dark Knight</td>\n",
       "      <td>2008</td>\n",
       "      <td>9.0</td>\n",
       "      <td>https://www.imdb.com/title/tt0468569/</td>\n",
       "      <td>2h 32m</td>\n",
       "      <td>PG-13</td>\n",
       "      <td>Action</td>\n",
       "      <td>Christopher Nolan</td>\n",
       "      <td>Christopher Nolan|Jonathan Nolan</td>\n",
       "      <td>Christian Bale|Heath Ledger</td>\n",
       "      <td>When the menace known as the Joker wreaks havoc and chaos on the people of Gotham, Batman must accept one of the greatest psychological and physical tests of his ability to fight injustice.</td>\n",
       "    </tr>\n",
       "    <tr>\n",
       "      <th>4</th>\n",
       "      <td>5</td>\n",
       "      <td>12 Angry Men</td>\n",
       "      <td>1957</td>\n",
       "      <td>8.9</td>\n",
       "      <td>https://www.imdb.com/title/tt0050083/</td>\n",
       "      <td>1h 36m</td>\n",
       "      <td>Approved</td>\n",
       "      <td>Crime</td>\n",
       "      <td>Sidney Lumet</td>\n",
       "      <td>Sidney Lumet|Reginald Rose</td>\n",
       "      <td>Henry Fonda|Lee J. Cobb</td>\n",
       "      <td>The jury in a New York City murder trial is frustrated by a single member whose skeptical caution forces them to more carefully consider the evidence before jumping to a hasty verdict.</td>\n",
       "    </tr>\n",
       "    <tr>\n",
       "      <th>5</th>\n",
       "      <td>6</td>\n",
       "      <td>Schindler's List</td>\n",
       "      <td>1993</td>\n",
       "      <td>8.9</td>\n",
       "      <td>https://www.imdb.com/title/tt0108052/</td>\n",
       "      <td>3h 15m</td>\n",
       "      <td>R</td>\n",
       "      <td>Biography</td>\n",
       "      <td>Steven Spielberg</td>\n",
       "      <td>Steven Spielberg|Thomas Keneally</td>\n",
       "      <td>Liam Neeson|Ralph Fiennes</td>\n",
       "      <td>In German-occupied Poland during World War II, industrialist Oskar Schindler gradually becomes concerned for his Jewish workforce after witnessing their persecution by the Nazis.</td>\n",
       "    </tr>\n",
       "    <tr>\n",
       "      <th>6</th>\n",
       "      <td>7</td>\n",
       "      <td>The Lord of the Rings: The Return of the King</td>\n",
       "      <td>2003</td>\n",
       "      <td>8.9</td>\n",
       "      <td>https://www.imdb.com/title/tt0167260/</td>\n",
       "      <td>3h 21m</td>\n",
       "      <td>PG-13</td>\n",
       "      <td>Action</td>\n",
       "      <td>Peter Jackson</td>\n",
       "      <td>Peter Jackson|J.R.R. Tolkien</td>\n",
       "      <td>Elijah Wood|Viggo Mortensen</td>\n",
       "      <td>Gandalf and Aragorn lead the World of Men against Sauron's army to draw his gaze from Frodo and Sam as they approach Mount Doom with the One Ring.</td>\n",
       "    </tr>\n",
       "    <tr>\n",
       "      <th>7</th>\n",
       "      <td>8</td>\n",
       "      <td>Pulp Fiction</td>\n",
       "      <td>1994</td>\n",
       "      <td>8.8</td>\n",
       "      <td>https://www.imdb.com/title/tt0110912/</td>\n",
       "      <td>2h 34m</td>\n",
       "      <td>R</td>\n",
       "      <td>Crime</td>\n",
       "      <td>Quentin Tarantino</td>\n",
       "      <td>Quentin Tarantino|Quentin Tarantino</td>\n",
       "      <td>John Travolta|Uma Thurman</td>\n",
       "      <td>The lives of two mob hitmen, a boxer, a gangster and his wife, and a pair of diner bandits intertwine in four tales of violence and redemption.</td>\n",
       "    </tr>\n",
       "    <tr>\n",
       "      <th>8</th>\n",
       "      <td>9</td>\n",
       "      <td>The Good, the Bad and the Ugly</td>\n",
       "      <td>1966</td>\n",
       "      <td>8.8</td>\n",
       "      <td>https://www.imdb.com/title/tt0060196/</td>\n",
       "      <td>2h 58m</td>\n",
       "      <td>R</td>\n",
       "      <td>Adventure</td>\n",
       "      <td>Sergio Leone</td>\n",
       "      <td>Sergio Leone|Luciano Vincenzoni</td>\n",
       "      <td>Clint Eastwood|Eli Wallach</td>\n",
       "      <td>A bounty hunting scam joins two men in an uneasy alliance against a third in a race to find a fortune in gold buried in a remote cemetery.</td>\n",
       "    </tr>\n",
       "    <tr>\n",
       "      <th>9</th>\n",
       "      <td>10</td>\n",
       "      <td>The Lord of the Rings: The Fellowship of the Ring</td>\n",
       "      <td>2001</td>\n",
       "      <td>8.8</td>\n",
       "      <td>https://www.imdb.com/title/tt0120737/</td>\n",
       "      <td>2h 58m</td>\n",
       "      <td>PG-13</td>\n",
       "      <td>Action</td>\n",
       "      <td>Peter Jackson</td>\n",
       "      <td>Peter Jackson|J.R.R. Tolkien</td>\n",
       "      <td>Elijah Wood|Ian McKellen</td>\n",
       "      <td>A meek Hobbit from the Shire and eight companions set out on a journey to destroy the powerful One Ring and save Middle-earth from the Dark Lord Sauron.</td>\n",
       "    </tr>\n",
       "  </tbody>\n",
       "</table>\n",
       "</div>"
      ],
      "text/plain": [
       "   ranking                                         movie_name release_year  \\\n",
       "0        1                           The Shawshank Redemption         1994   \n",
       "1        2                                      The Godfather         1972   \n",
       "2        3                             The Godfather: Part II         1974   \n",
       "3        4                                    The Dark Knight         2008   \n",
       "4        5                                       12 Angry Men         1957   \n",
       "5        6                                   Schindler's List         1993   \n",
       "6        7      The Lord of the Rings: The Return of the King         2003   \n",
       "7        8                                       Pulp Fiction         1994   \n",
       "8        9                     The Good, the Bad and the Ugly         1966   \n",
       "9       10  The Lord of the Rings: The Fellowship of the Ring         2001   \n",
       "\n",
       "   imdb_rating                         movie_page_url runtime    rating  \\\n",
       "0          9.2  https://www.imdb.com/title/tt0111161/  2h 22m         R   \n",
       "1          9.1  https://www.imdb.com/title/tt0068646/  2h 55m         R   \n",
       "2          9.0  https://www.imdb.com/title/tt0071562/  3h 22m         R   \n",
       "3          9.0  https://www.imdb.com/title/tt0468569/  2h 32m     PG-13   \n",
       "4          8.9  https://www.imdb.com/title/tt0050083/  1h 36m  Approved   \n",
       "5          8.9  https://www.imdb.com/title/tt0108052/  3h 15m         R   \n",
       "6          8.9  https://www.imdb.com/title/tt0167260/  3h 21m     PG-13   \n",
       "7          8.8  https://www.imdb.com/title/tt0110912/  2h 34m         R   \n",
       "8          8.8  https://www.imdb.com/title/tt0060196/  2h 58m         R   \n",
       "9          8.8  https://www.imdb.com/title/tt0120737/  2h 58m     PG-13   \n",
       "\n",
       "       genre              director                                    writers  \\\n",
       "0      Drama        Frank Darabont                Frank Darabont|Stephen King   \n",
       "1      Crime  Francis Ford Coppola            Francis Ford Coppola|Mario Puzo   \n",
       "2      Crime  Francis Ford Coppola  Francis Ford Coppola|Francis Ford Coppola   \n",
       "3     Action     Christopher Nolan           Christopher Nolan|Jonathan Nolan   \n",
       "4      Crime          Sidney Lumet                 Sidney Lumet|Reginald Rose   \n",
       "5  Biography      Steven Spielberg           Steven Spielberg|Thomas Keneally   \n",
       "6     Action         Peter Jackson               Peter Jackson|J.R.R. Tolkien   \n",
       "7      Crime     Quentin Tarantino        Quentin Tarantino|Quentin Tarantino   \n",
       "8  Adventure          Sergio Leone            Sergio Leone|Luciano Vincenzoni   \n",
       "9     Action         Peter Jackson               Peter Jackson|J.R.R. Tolkien   \n",
       "\n",
       "                   main_actors  \\\n",
       "0   Tim Robbins|Morgan Freeman   \n",
       "1      Marlon Brando|Al Pacino   \n",
       "2     Al Pacino|Robert De Niro   \n",
       "3  Christian Bale|Heath Ledger   \n",
       "4      Henry Fonda|Lee J. Cobb   \n",
       "5    Liam Neeson|Ralph Fiennes   \n",
       "6  Elijah Wood|Viggo Mortensen   \n",
       "7    John Travolta|Uma Thurman   \n",
       "8   Clint Eastwood|Eli Wallach   \n",
       "9     Elijah Wood|Ian McKellen   \n",
       "\n",
       "                                                                                                                                                                                         summary  \n",
       "0                                                                         Two imprisoned men bond over a number of years, finding solace and eventual redemption through acts of common decency.  \n",
       "1                                          The aging patriarch of an organized crime dynasty in postwar New York City transfers control of his clandestine empire to his reluctant youngest son.  \n",
       "2                           The early life and career of Vito Corleone in 1920s New York City is portrayed, while his son, Michael, expands and tightens his grip on the family crime syndicate.  \n",
       "3  When the menace known as the Joker wreaks havoc and chaos on the people of Gotham, Batman must accept one of the greatest psychological and physical tests of his ability to fight injustice.  \n",
       "4       The jury in a New York City murder trial is frustrated by a single member whose skeptical caution forces them to more carefully consider the evidence before jumping to a hasty verdict.  \n",
       "5             In German-occupied Poland during World War II, industrialist Oskar Schindler gradually becomes concerned for his Jewish workforce after witnessing their persecution by the Nazis.  \n",
       "6                                             Gandalf and Aragorn lead the World of Men against Sauron's army to draw his gaze from Frodo and Sam as they approach Mount Doom with the One Ring.  \n",
       "7                                                The lives of two mob hitmen, a boxer, a gangster and his wife, and a pair of diner bandits intertwine in four tales of violence and redemption.  \n",
       "8                                                     A bounty hunting scam joins two men in an uneasy alliance against a third in a race to find a fortune in gold buried in a remote cemetery.  \n",
       "9                                       A meek Hobbit from the Shire and eight companions set out on a journey to destroy the powerful One Ring and save Middle-earth from the Dark Lord Sauron.  "
      ]
     },
     "execution_count": 196,
     "metadata": {},
     "output_type": "execute_result"
    }
   ],
   "source": [
    "top250_movies = pd.concat([movies, movie_details_df], axis=1)\n",
    "top250_movies.head(10)"
   ]
  },
  {
   "cell_type": "markdown",
   "id": "a24ad479",
   "metadata": {},
   "source": [
    "### EDA"
   ]
  },
  {
   "cell_type": "code",
   "execution_count": 164,
   "id": "da4dcd45",
   "metadata": {},
   "outputs": [
    {
     "data": {
      "text/plain": [
       "ranking             int64\n",
       "movie_name         object\n",
       "release_year       object\n",
       "imdb_rating       float64\n",
       "movie_page_url     object\n",
       "runtime            object\n",
       "rating             object\n",
       "genre              object\n",
       "director           object\n",
       "writers            object\n",
       "main_actors        object\n",
       "summary            object\n",
       "dtype: object"
      ]
     },
     "execution_count": 164,
     "metadata": {},
     "output_type": "execute_result"
    }
   ],
   "source": [
    "top250_movies.dtypes"
   ]
  },
  {
   "cell_type": "code",
   "execution_count": 198,
   "id": "c554ac66",
   "metadata": {},
   "outputs": [],
   "source": [
    "# convert runtime into minutes\n",
    "top250_movies['runtime'] = top250_movies['runtime'].str.replace('h', '*60').str.replace(' ', '+').str.replace('m', '*1').apply(eval)"
   ]
  },
  {
   "cell_type": "code",
   "execution_count": 201,
   "id": "ca2b8c0a",
   "metadata": {},
   "outputs": [],
   "source": [
    "top250_movies.rename(columns={'runtime': 'runtime_in_minutes'}, inplace=True)"
   ]
  },
  {
   "cell_type": "code",
   "execution_count": 202,
   "id": "10ba4bb8",
   "metadata": {},
   "outputs": [
    {
     "data": {
      "text/plain": [
       "Index(['ranking', 'movie_name', 'release_year', 'imdb_rating',\n",
       "       'movie_page_url', 'runtime_in_minutes', 'rating', 'genre', 'director',\n",
       "       'writers', 'main_actors', 'summary'],\n",
       "      dtype='object')"
      ]
     },
     "execution_count": 202,
     "metadata": {},
     "output_type": "execute_result"
    }
   ],
   "source": [
    "top250_movies.columns"
   ]
  },
  {
   "cell_type": "code",
   "execution_count": 203,
   "id": "04a06c66",
   "metadata": {},
   "outputs": [
    {
     "data": {
      "text/html": [
       "<div>\n",
       "<style scoped>\n",
       "    .dataframe tbody tr th:only-of-type {\n",
       "        vertical-align: middle;\n",
       "    }\n",
       "\n",
       "    .dataframe tbody tr th {\n",
       "        vertical-align: top;\n",
       "    }\n",
       "\n",
       "    .dataframe thead th {\n",
       "        text-align: right;\n",
       "    }\n",
       "</style>\n",
       "<table border=\"1\" class=\"dataframe\">\n",
       "  <thead>\n",
       "    <tr style=\"text-align: right;\">\n",
       "      <th></th>\n",
       "      <th>ranking</th>\n",
       "      <th>movie_name</th>\n",
       "      <th>release_year</th>\n",
       "      <th>imdb_rating</th>\n",
       "      <th>movie_page_url</th>\n",
       "      <th>runtime_in_minutes</th>\n",
       "      <th>rating</th>\n",
       "      <th>genre</th>\n",
       "      <th>director</th>\n",
       "      <th>writers</th>\n",
       "      <th>main_actors</th>\n",
       "      <th>summary</th>\n",
       "    </tr>\n",
       "  </thead>\n",
       "  <tbody>\n",
       "    <tr>\n",
       "      <th>count</th>\n",
       "      <td>250.000000</td>\n",
       "      <td>250</td>\n",
       "      <td>250</td>\n",
       "      <td>250.000000</td>\n",
       "      <td>250</td>\n",
       "      <td>250.000000</td>\n",
       "      <td>250</td>\n",
       "      <td>250</td>\n",
       "      <td>250</td>\n",
       "      <td>250</td>\n",
       "      <td>250</td>\n",
       "      <td>250</td>\n",
       "    </tr>\n",
       "    <tr>\n",
       "      <th>unique</th>\n",
       "      <td>NaN</td>\n",
       "      <td>250</td>\n",
       "      <td>86</td>\n",
       "      <td>NaN</td>\n",
       "      <td>250</td>\n",
       "      <td>NaN</td>\n",
       "      <td>15</td>\n",
       "      <td>11</td>\n",
       "      <td>155</td>\n",
       "      <td>208</td>\n",
       "      <td>241</td>\n",
       "      <td>250</td>\n",
       "    </tr>\n",
       "    <tr>\n",
       "      <th>top</th>\n",
       "      <td>NaN</td>\n",
       "      <td>Once Upon a Time in the West</td>\n",
       "      <td>1995</td>\n",
       "      <td>NaN</td>\n",
       "      <td>https://www.imdb.com/title/tt0032553/</td>\n",
       "      <td>NaN</td>\n",
       "      <td>R</td>\n",
       "      <td>Drama</td>\n",
       "      <td>Martin Scorsese</td>\n",
       "      <td>Stanley Kubrick|Stanley Kubrick</td>\n",
       "      <td>Mark Hamill|Harrison Ford</td>\n",
       "      <td>After John Nash, a brilliant but asocial mathematician, accepts secret work in cryptography, his life takes a turn for the nightmarish.</td>\n",
       "    </tr>\n",
       "    <tr>\n",
       "      <th>freq</th>\n",
       "      <td>NaN</td>\n",
       "      <td>1</td>\n",
       "      <td>8</td>\n",
       "      <td>NaN</td>\n",
       "      <td>1</td>\n",
       "      <td>NaN</td>\n",
       "      <td>100</td>\n",
       "      <td>70</td>\n",
       "      <td>7</td>\n",
       "      <td>6</td>\n",
       "      <td>3</td>\n",
       "      <td>1</td>\n",
       "    </tr>\n",
       "    <tr>\n",
       "      <th>mean</th>\n",
       "      <td>125.500000</td>\n",
       "      <td>NaN</td>\n",
       "      <td>NaN</td>\n",
       "      <td>8.261600</td>\n",
       "      <td>NaN</td>\n",
       "      <td>130.472000</td>\n",
       "      <td>NaN</td>\n",
       "      <td>NaN</td>\n",
       "      <td>NaN</td>\n",
       "      <td>NaN</td>\n",
       "      <td>NaN</td>\n",
       "      <td>NaN</td>\n",
       "    </tr>\n",
       "    <tr>\n",
       "      <th>std</th>\n",
       "      <td>72.312977</td>\n",
       "      <td>NaN</td>\n",
       "      <td>NaN</td>\n",
       "      <td>0.226119</td>\n",
       "      <td>NaN</td>\n",
       "      <td>32.560374</td>\n",
       "      <td>NaN</td>\n",
       "      <td>NaN</td>\n",
       "      <td>NaN</td>\n",
       "      <td>NaN</td>\n",
       "      <td>NaN</td>\n",
       "      <td>NaN</td>\n",
       "    </tr>\n",
       "    <tr>\n",
       "      <th>min</th>\n",
       "      <td>1.000000</td>\n",
       "      <td>NaN</td>\n",
       "      <td>NaN</td>\n",
       "      <td>8.000000</td>\n",
       "      <td>NaN</td>\n",
       "      <td>45.000000</td>\n",
       "      <td>NaN</td>\n",
       "      <td>NaN</td>\n",
       "      <td>NaN</td>\n",
       "      <td>NaN</td>\n",
       "      <td>NaN</td>\n",
       "      <td>NaN</td>\n",
       "    </tr>\n",
       "    <tr>\n",
       "      <th>25%</th>\n",
       "      <td>63.250000</td>\n",
       "      <td>NaN</td>\n",
       "      <td>NaN</td>\n",
       "      <td>8.100000</td>\n",
       "      <td>NaN</td>\n",
       "      <td>109.000000</td>\n",
       "      <td>NaN</td>\n",
       "      <td>NaN</td>\n",
       "      <td>NaN</td>\n",
       "      <td>NaN</td>\n",
       "      <td>NaN</td>\n",
       "      <td>NaN</td>\n",
       "    </tr>\n",
       "    <tr>\n",
       "      <th>50%</th>\n",
       "      <td>125.500000</td>\n",
       "      <td>NaN</td>\n",
       "      <td>NaN</td>\n",
       "      <td>8.200000</td>\n",
       "      <td>NaN</td>\n",
       "      <td>127.000000</td>\n",
       "      <td>NaN</td>\n",
       "      <td>NaN</td>\n",
       "      <td>NaN</td>\n",
       "      <td>NaN</td>\n",
       "      <td>NaN</td>\n",
       "      <td>NaN</td>\n",
       "    </tr>\n",
       "    <tr>\n",
       "      <th>75%</th>\n",
       "      <td>187.750000</td>\n",
       "      <td>NaN</td>\n",
       "      <td>NaN</td>\n",
       "      <td>8.400000</td>\n",
       "      <td>NaN</td>\n",
       "      <td>147.750000</td>\n",
       "      <td>NaN</td>\n",
       "      <td>NaN</td>\n",
       "      <td>NaN</td>\n",
       "      <td>NaN</td>\n",
       "      <td>NaN</td>\n",
       "      <td>NaN</td>\n",
       "    </tr>\n",
       "    <tr>\n",
       "      <th>max</th>\n",
       "      <td>250.000000</td>\n",
       "      <td>NaN</td>\n",
       "      <td>NaN</td>\n",
       "      <td>9.200000</td>\n",
       "      <td>NaN</td>\n",
       "      <td>321.000000</td>\n",
       "      <td>NaN</td>\n",
       "      <td>NaN</td>\n",
       "      <td>NaN</td>\n",
       "      <td>NaN</td>\n",
       "      <td>NaN</td>\n",
       "      <td>NaN</td>\n",
       "    </tr>\n",
       "  </tbody>\n",
       "</table>\n",
       "</div>"
      ],
      "text/plain": [
       "           ranking                    movie_name release_year  imdb_rating  \\\n",
       "count   250.000000                           250          250   250.000000   \n",
       "unique         NaN                           250           86          NaN   \n",
       "top            NaN  Once Upon a Time in the West         1995          NaN   \n",
       "freq           NaN                             1            8          NaN   \n",
       "mean    125.500000                           NaN          NaN     8.261600   \n",
       "std      72.312977                           NaN          NaN     0.226119   \n",
       "min       1.000000                           NaN          NaN     8.000000   \n",
       "25%      63.250000                           NaN          NaN     8.100000   \n",
       "50%     125.500000                           NaN          NaN     8.200000   \n",
       "75%     187.750000                           NaN          NaN     8.400000   \n",
       "max     250.000000                           NaN          NaN     9.200000   \n",
       "\n",
       "                               movie_page_url  runtime_in_minutes rating  \\\n",
       "count                                     250          250.000000    250   \n",
       "unique                                    250                 NaN     15   \n",
       "top     https://www.imdb.com/title/tt0032553/                 NaN      R   \n",
       "freq                                        1                 NaN    100   \n",
       "mean                                      NaN          130.472000    NaN   \n",
       "std                                       NaN           32.560374    NaN   \n",
       "min                                       NaN           45.000000    NaN   \n",
       "25%                                       NaN          109.000000    NaN   \n",
       "50%                                       NaN          127.000000    NaN   \n",
       "75%                                       NaN          147.750000    NaN   \n",
       "max                                       NaN          321.000000    NaN   \n",
       "\n",
       "        genre         director                          writers  \\\n",
       "count     250              250                              250   \n",
       "unique     11              155                              208   \n",
       "top     Drama  Martin Scorsese  Stanley Kubrick|Stanley Kubrick   \n",
       "freq       70                7                                6   \n",
       "mean      NaN              NaN                              NaN   \n",
       "std       NaN              NaN                              NaN   \n",
       "min       NaN              NaN                              NaN   \n",
       "25%       NaN              NaN                              NaN   \n",
       "50%       NaN              NaN                              NaN   \n",
       "75%       NaN              NaN                              NaN   \n",
       "max       NaN              NaN                              NaN   \n",
       "\n",
       "                      main_actors  \\\n",
       "count                         250   \n",
       "unique                        241   \n",
       "top     Mark Hamill|Harrison Ford   \n",
       "freq                            3   \n",
       "mean                          NaN   \n",
       "std                           NaN   \n",
       "min                           NaN   \n",
       "25%                           NaN   \n",
       "50%                           NaN   \n",
       "75%                           NaN   \n",
       "max                           NaN   \n",
       "\n",
       "                                                                                                                                        summary  \n",
       "count                                                                                                                                       250  \n",
       "unique                                                                                                                                      250  \n",
       "top     After John Nash, a brilliant but asocial mathematician, accepts secret work in cryptography, his life takes a turn for the nightmarish.  \n",
       "freq                                                                                                                                          1  \n",
       "mean                                                                                                                                        NaN  \n",
       "std                                                                                                                                         NaN  \n",
       "min                                                                                                                                         NaN  \n",
       "25%                                                                                                                                         NaN  \n",
       "50%                                                                                                                                         NaN  \n",
       "75%                                                                                                                                         NaN  \n",
       "max                                                                                                                                         NaN  "
      ]
     },
     "execution_count": 203,
     "metadata": {},
     "output_type": "execute_result"
    }
   ],
   "source": [
    "top250_movies.describe(include='all')"
   ]
  },
  {
   "cell_type": "code",
   "execution_count": 205,
   "id": "387ab74a",
   "metadata": {},
   "outputs": [],
   "source": [
    "# I found that some movies already are 'Not Rated', I need to replace the s\n",
    "top250_movies['rating'] = top250_movies.rating.str.replace('not rated', 'Not Rated')"
   ]
  },
  {
   "cell_type": "markdown",
   "id": "36e5a886",
   "metadata": {},
   "source": [
    "### Data Analysis\n",
    "#### Movie Ratings vs. Runtime"
   ]
  },
  {
   "cell_type": "code",
   "execution_count": 206,
   "id": "43def6c9",
   "metadata": {},
   "outputs": [
    {
     "data": {
      "text/plain": [
       "R            0.400\n",
       "Not Rated    0.140\n",
       "PG           0.140\n",
       "PG-13        0.124\n",
       "Passed       0.060\n",
       "G            0.060\n",
       "Approved     0.048\n",
       "Unrated      0.004\n",
       "GP           0.004\n",
       "TV-MA        0.004\n",
       "TV-PG        0.004\n",
       "TV-14        0.004\n",
       "M            0.004\n",
       "X            0.004\n",
       "Name: rating, dtype: float64"
      ]
     },
     "execution_count": 206,
     "metadata": {},
     "output_type": "execute_result"
    }
   ],
   "source": [
    "# use value_counts(normalize=True) on rating column to see the percentage of each movie rating\n",
    "top250_movies.rating.value_counts(normalize=True)"
   ]
  },
  {
   "cell_type": "code",
   "execution_count": 207,
   "id": "41705d3c",
   "metadata": {},
   "outputs": [],
   "source": [
    "import matplotlib.pyplot as plt\n",
    "import seaborn as sns"
   ]
  },
  {
   "cell_type": "code",
   "execution_count": 241,
   "id": "aeca5401",
   "metadata": {},
   "outputs": [
    {
     "data": {
      "image/png": "[encoded data removed]",
      "text/plain": [
       "<Figure size 1080x576 with 1 Axes>"
      ]
     },
     "metadata": {},
     "output_type": "display_data"
    }
   ],
   "source": [
    "# rating vs. runtime boxplot\n",
    "sns.set_style('whitegrid')\n",
    "sns.set_context('paper', font_scale=1.3)\n",
    "ax1 = sns.catplot(kind='violin', data=top250_movies, x='rating', y='runtime_in_minutes', palette='pastel')\n",
    "ax1.fig.set_figwidth(15)\n",
    "ax1.fig.set_figheight(8)\n",
    "plt.title('Top 250 Movie Ratings and Runtimes')\n",
    "plt.show()"
   ]
  },
  {
   "cell_type": "markdown",
   "id": "5aa3c056",
   "metadata": {},
   "source": [
    "From the violin plot above, we can see that among all top 250 movies:\n",
    "1. the medians for each type of rating are very similar.\n",
    "2. for R, PG_13, and PG movies, the runtimes are highly concentrated around the median runtime.\n",
    "3. for Approved, Not Rated, G, and Passed, it is certain that there are outliers for the runtime, especially in Not Rated movies."
   ]
  },
  {
   "cell_type": "markdown",
   "id": "e34f4776",
   "metadata": {},
   "source": [
    "#### R Movies Genres vs. Runtime"
   ]
  },
  {
   "cell_type": "code",
   "execution_count": 227,
   "id": "2400239e",
   "metadata": {},
   "outputs": [
    {
     "data": {
      "text/html": [
       "<div>\n",
       "<style scoped>\n",
       "    .dataframe tbody tr th:only-of-type {\n",
       "        vertical-align: middle;\n",
       "    }\n",
       "\n",
       "    .dataframe tbody tr th {\n",
       "        vertical-align: top;\n",
       "    }\n",
       "\n",
       "    .dataframe thead th {\n",
       "        text-align: right;\n",
       "    }\n",
       "</style>\n",
       "<table border=\"1\" class=\"dataframe\">\n",
       "  <thead>\n",
       "    <tr style=\"text-align: right;\">\n",
       "      <th></th>\n",
       "      <th>ranking</th>\n",
       "      <th>movie_name</th>\n",
       "      <th>release_year</th>\n",
       "      <th>imdb_rating</th>\n",
       "      <th>movie_page_url</th>\n",
       "      <th>runtime_in_minutes</th>\n",
       "      <th>rating</th>\n",
       "      <th>genre</th>\n",
       "      <th>director</th>\n",
       "      <th>writers</th>\n",
       "      <th>main_actors</th>\n",
       "      <th>summary</th>\n",
       "    </tr>\n",
       "  </thead>\n",
       "  <tbody>\n",
       "    <tr>\n",
       "      <th>0</th>\n",
       "      <td>1</td>\n",
       "      <td>The Shawshank Redemption</td>\n",
       "      <td>1994</td>\n",
       "      <td>9.2</td>\n",
       "      <td>https://www.imdb.com/title/tt0111161/</td>\n",
       "      <td>142</td>\n",
       "      <td>R</td>\n",
       "      <td>Drama</td>\n",
       "      <td>Frank Darabont</td>\n",
       "      <td>Frank Darabont|Stephen King</td>\n",
       "      <td>Tim Robbins|Morgan Freeman</td>\n",
       "      <td>Two imprisoned men bond over a number of years, finding solace and eventual redemption through acts of common decency.</td>\n",
       "    </tr>\n",
       "    <tr>\n",
       "      <th>1</th>\n",
       "      <td>2</td>\n",
       "      <td>The Godfather</td>\n",
       "      <td>1972</td>\n",
       "      <td>9.1</td>\n",
       "      <td>https://www.imdb.com/title/tt0068646/</td>\n",
       "      <td>175</td>\n",
       "      <td>R</td>\n",
       "      <td>Crime</td>\n",
       "      <td>Francis Ford Coppola</td>\n",
       "      <td>Francis Ford Coppola|Mario Puzo</td>\n",
       "      <td>Marlon Brando|Al Pacino</td>\n",
       "      <td>The aging patriarch of an organized crime dynasty in postwar New York City transfers control of his clandestine empire to his reluctant youngest son.</td>\n",
       "    </tr>\n",
       "    <tr>\n",
       "      <th>2</th>\n",
       "      <td>3</td>\n",
       "      <td>The Godfather: Part II</td>\n",
       "      <td>1974</td>\n",
       "      <td>9.0</td>\n",
       "      <td>https://www.imdb.com/title/tt0071562/</td>\n",
       "      <td>202</td>\n",
       "      <td>R</td>\n",
       "      <td>Crime</td>\n",
       "      <td>Francis Ford Coppola</td>\n",
       "      <td>Francis Ford Coppola|Francis Ford Coppola</td>\n",
       "      <td>Al Pacino|Robert De Niro</td>\n",
       "      <td>The early life and career of Vito Corleone in 1920s New York City is portrayed, while his son, Michael, expands and tightens his grip on the family crime syndicate.</td>\n",
       "    </tr>\n",
       "    <tr>\n",
       "      <th>5</th>\n",
       "      <td>6</td>\n",
       "      <td>Schindler's List</td>\n",
       "      <td>1993</td>\n",
       "      <td>8.9</td>\n",
       "      <td>https://www.imdb.com/title/tt0108052/</td>\n",
       "      <td>195</td>\n",
       "      <td>R</td>\n",
       "      <td>Biography</td>\n",
       "      <td>Steven Spielberg</td>\n",
       "      <td>Steven Spielberg|Thomas Keneally</td>\n",
       "      <td>Liam Neeson|Ralph Fiennes</td>\n",
       "      <td>In German-occupied Poland during World War II, industrialist Oskar Schindler gradually becomes concerned for his Jewish workforce after witnessing their persecution by the Nazis.</td>\n",
       "    </tr>\n",
       "    <tr>\n",
       "      <th>7</th>\n",
       "      <td>8</td>\n",
       "      <td>Pulp Fiction</td>\n",
       "      <td>1994</td>\n",
       "      <td>8.8</td>\n",
       "      <td>https://www.imdb.com/title/tt0110912/</td>\n",
       "      <td>154</td>\n",
       "      <td>R</td>\n",
       "      <td>Crime</td>\n",
       "      <td>Quentin Tarantino</td>\n",
       "      <td>Quentin Tarantino|Quentin Tarantino</td>\n",
       "      <td>John Travolta|Uma Thurman</td>\n",
       "      <td>The lives of two mob hitmen, a boxer, a gangster and his wife, and a pair of diner bandits intertwine in four tales of violence and redemption.</td>\n",
       "    </tr>\n",
       "  </tbody>\n",
       "</table>\n",
       "</div>"
      ],
      "text/plain": [
       "   ranking                movie_name release_year  imdb_rating  \\\n",
       "0        1  The Shawshank Redemption         1994          9.2   \n",
       "1        2             The Godfather         1972          9.1   \n",
       "2        3    The Godfather: Part II         1974          9.0   \n",
       "5        6          Schindler's List         1993          8.9   \n",
       "7        8              Pulp Fiction         1994          8.8   \n",
       "\n",
       "                          movie_page_url  runtime_in_minutes rating  \\\n",
       "0  https://www.imdb.com/title/tt0111161/                 142      R   \n",
       "1  https://www.imdb.com/title/tt0068646/                 175      R   \n",
       "2  https://www.imdb.com/title/tt0071562/                 202      R   \n",
       "5  https://www.imdb.com/title/tt0108052/                 195      R   \n",
       "7  https://www.imdb.com/title/tt0110912/                 154      R   \n",
       "\n",
       "       genre              director                                    writers  \\\n",
       "0      Drama        Frank Darabont                Frank Darabont|Stephen King   \n",
       "1      Crime  Francis Ford Coppola            Francis Ford Coppola|Mario Puzo   \n",
       "2      Crime  Francis Ford Coppola  Francis Ford Coppola|Francis Ford Coppola   \n",
       "5  Biography      Steven Spielberg           Steven Spielberg|Thomas Keneally   \n",
       "7      Crime     Quentin Tarantino        Quentin Tarantino|Quentin Tarantino   \n",
       "\n",
       "                  main_actors  \\\n",
       "0  Tim Robbins|Morgan Freeman   \n",
       "1     Marlon Brando|Al Pacino   \n",
       "2    Al Pacino|Robert De Niro   \n",
       "5   Liam Neeson|Ralph Fiennes   \n",
       "7   John Travolta|Uma Thurman   \n",
       "\n",
       "                                                                                                                                                                              summary  \n",
       "0                                                              Two imprisoned men bond over a number of years, finding solace and eventual redemption through acts of common decency.  \n",
       "1                               The aging patriarch of an organized crime dynasty in postwar New York City transfers control of his clandestine empire to his reluctant youngest son.  \n",
       "2                The early life and career of Vito Corleone in 1920s New York City is portrayed, while his son, Michael, expands and tightens his grip on the family crime syndicate.  \n",
       "5  In German-occupied Poland during World War II, industrialist Oskar Schindler gradually becomes concerned for his Jewish workforce after witnessing their persecution by the Nazis.  \n",
       "7                                     The lives of two mob hitmen, a boxer, a gangster and his wife, and a pair of diner bandits intertwine in four tales of violence and redemption.  "
      ]
     },
     "execution_count": 227,
     "metadata": {},
     "output_type": "execute_result"
    }
   ],
   "source": [
    "new_df = top250_movies[top250_movies.rating == 'R']\n",
    "new_df.head()"
   ]
  },
  {
   "cell_type": "code",
   "execution_count": 232,
   "id": "5f55c96f",
   "metadata": {},
   "outputs": [
    {
     "data": {
      "text/plain": [
       "100"
      ]
     },
     "execution_count": 232,
     "metadata": {},
     "output_type": "execute_result"
    }
   ],
   "source": [
    "len(new_df)"
   ]
  },
  {
   "cell_type": "code",
   "execution_count": 228,
   "id": "9c01fc75",
   "metadata": {},
   "outputs": [
    {
     "data": {
      "text/plain": [
       "<Figure size 432x288 with 0 Axes>"
      ]
     },
     "metadata": {},
     "output_type": "display_data"
    },
    {
     "data": {
      "image/png": "[encoded data removed]",
      "text/plain": [
       "<Figure size 1080x576 with 1 Axes>"
      ]
     },
     "metadata": {},
     "output_type": "display_data"
    }
   ],
   "source": [
    "# runtime vs. genre in R movies\n",
    "plt.clf()\n",
    "sns.set_context('paper', font_scale=1.3)\n",
    "sns.set_style('whitegrid')\n",
    "ax2 = sns.catplot(kind='bar', data=new_df, x='genre', y='runtime_in_minutes', palette='pastel')\n",
    "ax2.fig.set_figwidth(15)\n",
    "ax2.fig.set_figheight(8)\n",
    "plt.title('R Movie Genre and Runtime in Top 250 Movies')\n",
    "plt.show()"
   ]
  },
  {
   "cell_type": "markdown",
   "id": "0aa5bbb5",
   "metadata": {},
   "source": [
    "From the bar graph above, we can see that:\n",
    "1. The longest average runtime is biography movie among all R rated top 250 movies in IMDb.\n",
    "2. The shortest aveage runtime is horror movie."
   ]
  },
  {
   "cell_type": "code",
   "execution_count": 230,
   "id": "ff25a4e0",
   "metadata": {},
   "outputs": [
    {
     "data": {
      "text/plain": [
       "<Figure size 432x288 with 0 Axes>"
      ]
     },
     "metadata": {},
     "output_type": "display_data"
    },
    {
     "data": {
      "image/png": "[encoded data removed]",
      "text/plain": [
       "<Figure size 1080x576 with 1 Axes>"
      ]
     },
     "metadata": {},
     "output_type": "display_data"
    }
   ],
   "source": [
    "plt.clf()\n",
    "sns.set_context('paper', font_scale=1.3)\n",
    "sns.set_style('whitegrid')\n",
    "ax2 = sns.catplot(kind='violin', data=new_df, x='genre', y='runtime_in_minutes', palette='pastel')\n",
    "ax2.fig.set_figwidth(15)\n",
    "ax2.fig.set_figheight(8)\n",
    "plt.title('R Movie Genre and Runtime in Top 250 Movies')\n",
    "plt.show()"
   ]
  },
  {
   "cell_type": "markdown",
   "id": "7b70e74e",
   "metadata": {},
   "source": [
    "From the violin plot above, we can see that:\n",
    "1. Crime, Biography, and Adventure movies have extremely thin violin plots, indicating the runtimes are widely spreaded for these genres.\n",
    "2. Even though the Biography genre has the longest average runtime, we can see here Adventure's median runtime is the highest among all genres."
   ]
  },
  {
   "cell_type": "code",
   "execution_count": 231,
   "id": "e1d87bc1",
   "metadata": {},
   "outputs": [
    {
     "data": {
      "text/plain": [
       "Martin Scorsese                     7\n",
       "Quentin Tarantino                   5\n",
       "Francis Ford Coppola                3\n",
       "David Fincher                       3\n",
       "Ridley Scott                        3\n",
       "Sergio Leone                        3\n",
       "Mel Gibson                          2\n",
       "Steven Spielberg                    2\n",
       "James Cameron                       2\n",
       "Frank Darabont                      2\n",
       "Sam Mendes                          2\n",
       "Denis Villeneuve                    2\n",
       "Joel Coen                           2\n",
       "Roman Polanski                      2\n",
       "Richard Linklater                   2\n",
       "Guy Ritchie                         2\n",
       "Clint Eastwood                      2\n",
       "Stanley Kubrick                     2\n",
       "Todd Phillips                       1\n",
       "Oliver Hirschbiegel                 1\n",
       "Damien Chazelle                     1\n",
       "Martin McDonagh                     1\n",
       "Tom McCarthy                        1\n",
       "James Mangold                       1\n",
       "Brian De Palma                      1\n",
       "George Miller                       1\n",
       "Gus Van Sant                        1\n",
       "Lenny Abrahamson                    1\n",
       "Tony Kaye                           1\n",
       "Florian Henckel von Donnersmarck    1\n",
       "Andrei Tarkovsky                    1\n",
       "Rob Reiner                          1\n",
       "Curtis Hanson                       1\n",
       "Michel Gondry                       1\n",
       "Alejandro G. Iñárritu               1\n",
       "Paul Thomas Anderson                1\n",
       "Olivier Nakache                     1\n",
       "James McTeigue                      1\n",
       "Sidney Lumet                        1\n",
       "Jim Sheridan                        1\n",
       "Fernando Meirelles                  1\n",
       "Sean Penn                           1\n",
       "Jonathan Demme                      1\n",
       "Guillermo del Toro                  1\n",
       "Damián Szifron                      1\n",
       "Nadine Labaki                       1\n",
       "Luc Besson                          1\n",
       "Milos Forman                        1\n",
       "Michael Cimino                      1\n",
       "Bong Joon Ho                        1\n",
       "Lana Wachowski                      1\n",
       "Juan José Campanella                1\n",
       "Ethan Coen                          1\n",
       "Wes Anderson                        1\n",
       "Ron Howard                          1\n",
       "Park Chan-wook                      1\n",
       "Christopher Nolan                   1\n",
       "Akira Kurosawa                      1\n",
       "Thomas Vinterberg                   1\n",
       "Terry Jones                         1\n",
       "John Carpenter                      1\n",
       "John McTiernan                      1\n",
       "Jean-Pierre Jeunet                  1\n",
       "Ingmar Bergman                      1\n",
       "Steve McQueen                       1\n",
       "Oliver Stone                        1\n",
       "Bryan Singer                        1\n",
       "Danny Boyle                         1\n",
       "Michael Mann                        1\n",
       "Alfred Hitchcock                    1\n",
       "Name: director, dtype: int64"
      ]
     },
     "execution_count": 231,
     "metadata": {},
     "output_type": "execute_result"
    }
   ],
   "source": [
    "# among the 100 R rated movies, 7 were directed by Martin Scorese\n",
    "new_df.director.value_counts()"
   ]
  },
  {
   "cell_type": "code",
   "execution_count": 233,
   "id": "39b8a147",
   "metadata": {},
   "outputs": [
    {
     "data": {
      "text/html": [
       "<div>\n",
       "<style scoped>\n",
       "    .dataframe tbody tr th:only-of-type {\n",
       "        vertical-align: middle;\n",
       "    }\n",
       "\n",
       "    .dataframe tbody tr th {\n",
       "        vertical-align: top;\n",
       "    }\n",
       "\n",
       "    .dataframe thead th {\n",
       "        text-align: right;\n",
       "    }\n",
       "</style>\n",
       "<table border=\"1\" class=\"dataframe\">\n",
       "  <thead>\n",
       "    <tr style=\"text-align: right;\">\n",
       "      <th></th>\n",
       "      <th>ranking</th>\n",
       "      <th>movie_name</th>\n",
       "      <th>release_year</th>\n",
       "      <th>imdb_rating</th>\n",
       "      <th>movie_page_url</th>\n",
       "      <th>runtime_in_minutes</th>\n",
       "      <th>rating</th>\n",
       "      <th>genre</th>\n",
       "      <th>director</th>\n",
       "      <th>writers</th>\n",
       "      <th>main_actors</th>\n",
       "      <th>summary</th>\n",
       "    </tr>\n",
       "  </thead>\n",
       "  <tbody>\n",
       "    <tr>\n",
       "      <th>16</th>\n",
       "      <td>17</td>\n",
       "      <td>Goodfellas</td>\n",
       "      <td>1990</td>\n",
       "      <td>8.6</td>\n",
       "      <td>https://www.imdb.com/title/tt0099685/</td>\n",
       "      <td>146</td>\n",
       "      <td>R</td>\n",
       "      <td>Biography</td>\n",
       "      <td>Martin Scorsese</td>\n",
       "      <td>Martin Scorsese|Nicholas Pileggi</td>\n",
       "      <td>Robert De Niro|Ray Liotta</td>\n",
       "      <td>The story of Henry Hill and his life in the mob, covering his relationship with his wife Karen Hill and his mob partners Jimmy Conway and Tommy DeVito in the Italian-American crime syndicate.</td>\n",
       "    </tr>\n",
       "    <tr>\n",
       "      <th>44</th>\n",
       "      <td>45</td>\n",
       "      <td>The Departed</td>\n",
       "      <td>2006</td>\n",
       "      <td>8.5</td>\n",
       "      <td>https://www.imdb.com/title/tt0407887/</td>\n",
       "      <td>151</td>\n",
       "      <td>R</td>\n",
       "      <td>Crime</td>\n",
       "      <td>Martin Scorsese</td>\n",
       "      <td>Martin Scorsese|William Monahan</td>\n",
       "      <td>Leonardo DiCaprio|Matt Damon</td>\n",
       "      <td>An undercover cop and a mole in the police attempt to identify each other while infiltrating an Irish gang in South Boston.</td>\n",
       "    </tr>\n",
       "    <tr>\n",
       "      <th>111</th>\n",
       "      <td>112</td>\n",
       "      <td>Taxi Driver</td>\n",
       "      <td>1976</td>\n",
       "      <td>8.2</td>\n",
       "      <td>https://www.imdb.com/title/tt0075314/</td>\n",
       "      <td>114</td>\n",
       "      <td>R</td>\n",
       "      <td>Crime</td>\n",
       "      <td>Martin Scorsese</td>\n",
       "      <td>Martin Scorsese|Paul Schrader</td>\n",
       "      <td>Robert De Niro|Jodie Foster</td>\n",
       "      <td>A mentally unstable veteran works as a nighttime taxi driver in New York City, where the perceived decadence and sleaze fuels his urge for violent action.</td>\n",
       "    </tr>\n",
       "    <tr>\n",
       "      <th>141</th>\n",
       "      <td>142</td>\n",
       "      <td>The Wolf of Wall Street</td>\n",
       "      <td>2013</td>\n",
       "      <td>8.2</td>\n",
       "      <td>https://www.imdb.com/title/tt0993846/</td>\n",
       "      <td>180</td>\n",
       "      <td>R</td>\n",
       "      <td>Biography</td>\n",
       "      <td>Martin Scorsese</td>\n",
       "      <td>Martin Scorsese|Terence Winter</td>\n",
       "      <td>Leonardo DiCaprio|Jonah Hill</td>\n",
       "      <td>Based on the true story of Jordan Belfort, from his rise to a wealthy stock-broker living the high life to his fall involving crime, corruption and the federal government.</td>\n",
       "    </tr>\n",
       "    <tr>\n",
       "      <th>144</th>\n",
       "      <td>145</td>\n",
       "      <td>Casino</td>\n",
       "      <td>1995</td>\n",
       "      <td>8.2</td>\n",
       "      <td>https://www.imdb.com/title/tt0112641/</td>\n",
       "      <td>178</td>\n",
       "      <td>R</td>\n",
       "      <td>Crime</td>\n",
       "      <td>Martin Scorsese</td>\n",
       "      <td>Martin Scorsese|Nicholas Pileggi</td>\n",
       "      <td>Robert De Niro|Sharon Stone</td>\n",
       "      <td>A tale of greed, deception, money, power, and murder occur between two best friends: a mafia enforcer and a casino executive compete against each other over a gambling empire, and over a fast-living and fast-loving socialite.</td>\n",
       "    </tr>\n",
       "    <tr>\n",
       "      <th>150</th>\n",
       "      <td>151</td>\n",
       "      <td>Raging Bull</td>\n",
       "      <td>1980</td>\n",
       "      <td>8.1</td>\n",
       "      <td>https://www.imdb.com/title/tt0081398/</td>\n",
       "      <td>129</td>\n",
       "      <td>R</td>\n",
       "      <td>Biography</td>\n",
       "      <td>Martin Scorsese</td>\n",
       "      <td>Martin Scorsese|Jake LaMotta</td>\n",
       "      <td>Robert De Niro|Cathy Moriarty</td>\n",
       "      <td>The life of boxer Jake LaMotta, whose violence and temper that led him to the top in the ring destroyed his life outside of it.</td>\n",
       "    </tr>\n",
       "    <tr>\n",
       "      <th>153</th>\n",
       "      <td>154</td>\n",
       "      <td>Shutter Island</td>\n",
       "      <td>2010</td>\n",
       "      <td>8.1</td>\n",
       "      <td>https://www.imdb.com/title/tt1130884/</td>\n",
       "      <td>138</td>\n",
       "      <td>R</td>\n",
       "      <td>Mystery</td>\n",
       "      <td>Martin Scorsese</td>\n",
       "      <td>Martin Scorsese|Laeta Kalogridis</td>\n",
       "      <td>Leonardo DiCaprio|Emily Mortimer</td>\n",
       "      <td>In 1954, a U.S. Marshal investigates the disappearance of a murderer who escaped from a hospital for the criminally insane.</td>\n",
       "    </tr>\n",
       "  </tbody>\n",
       "</table>\n",
       "</div>"
      ],
      "text/plain": [
       "     ranking               movie_name release_year  imdb_rating  \\\n",
       "16        17               Goodfellas         1990          8.6   \n",
       "44        45             The Departed         2006          8.5   \n",
       "111      112              Taxi Driver         1976          8.2   \n",
       "141      142  The Wolf of Wall Street         2013          8.2   \n",
       "144      145                   Casino         1995          8.2   \n",
       "150      151              Raging Bull         1980          8.1   \n",
       "153      154           Shutter Island         2010          8.1   \n",
       "\n",
       "                            movie_page_url  runtime_in_minutes rating  \\\n",
       "16   https://www.imdb.com/title/tt0099685/                 146      R   \n",
       "44   https://www.imdb.com/title/tt0407887/                 151      R   \n",
       "111  https://www.imdb.com/title/tt0075314/                 114      R   \n",
       "141  https://www.imdb.com/title/tt0993846/                 180      R   \n",
       "144  https://www.imdb.com/title/tt0112641/                 178      R   \n",
       "150  https://www.imdb.com/title/tt0081398/                 129      R   \n",
       "153  https://www.imdb.com/title/tt1130884/                 138      R   \n",
       "\n",
       "         genre         director                           writers  \\\n",
       "16   Biography  Martin Scorsese  Martin Scorsese|Nicholas Pileggi   \n",
       "44       Crime  Martin Scorsese   Martin Scorsese|William Monahan   \n",
       "111      Crime  Martin Scorsese     Martin Scorsese|Paul Schrader   \n",
       "141  Biography  Martin Scorsese    Martin Scorsese|Terence Winter   \n",
       "144      Crime  Martin Scorsese  Martin Scorsese|Nicholas Pileggi   \n",
       "150  Biography  Martin Scorsese      Martin Scorsese|Jake LaMotta   \n",
       "153    Mystery  Martin Scorsese  Martin Scorsese|Laeta Kalogridis   \n",
       "\n",
       "                          main_actors  \\\n",
       "16          Robert De Niro|Ray Liotta   \n",
       "44       Leonardo DiCaprio|Matt Damon   \n",
       "111       Robert De Niro|Jodie Foster   \n",
       "141      Leonardo DiCaprio|Jonah Hill   \n",
       "144       Robert De Niro|Sharon Stone   \n",
       "150     Robert De Niro|Cathy Moriarty   \n",
       "153  Leonardo DiCaprio|Emily Mortimer   \n",
       "\n",
       "                                                                                                                                                                                                                               summary  \n",
       "16                                     The story of Henry Hill and his life in the mob, covering his relationship with his wife Karen Hill and his mob partners Jimmy Conway and Tommy DeVito in the Italian-American crime syndicate.  \n",
       "44                                                                                                         An undercover cop and a mole in the police attempt to identify each other while infiltrating an Irish gang in South Boston.  \n",
       "111                                                                         A mentally unstable veteran works as a nighttime taxi driver in New York City, where the perceived decadence and sleaze fuels his urge for violent action.  \n",
       "141                                                        Based on the true story of Jordan Belfort, from his rise to a wealthy stock-broker living the high life to his fall involving crime, corruption and the federal government.  \n",
       "144  A tale of greed, deception, money, power, and murder occur between two best friends: a mafia enforcer and a casino executive compete against each other over a gambling empire, and over a fast-living and fast-loving socialite.  \n",
       "150                                                                                                    The life of boxer Jake LaMotta, whose violence and temper that led him to the top in the ring destroyed his life outside of it.  \n",
       "153                                                                                                        In 1954, a U.S. Marshal investigates the disappearance of a murderer who escaped from a hospital for the criminally insane.  "
      ]
     },
     "execution_count": 233,
     "metadata": {},
     "output_type": "execute_result"
    }
   ],
   "source": [
    "martin_scorese = top250_movies[top250_movies.director == 'Martin Scorsese']\n",
    "martin_scorese"
   ]
  },
  {
   "cell_type": "code",
   "execution_count": 242,
   "id": "6b15bbd2",
   "metadata": {},
   "outputs": [
    {
     "data": {
      "text/plain": [
       "<Figure size 432x288 with 0 Axes>"
      ]
     },
     "metadata": {},
     "output_type": "display_data"
    },
    {
     "data": {
      "image/png": "[encoded data removed]",
      "text/plain": [
       "<Figure size 1080x576 with 1 Axes>"
      ]
     },
     "metadata": {},
     "output_type": "display_data"
    }
   ],
   "source": [
    "plt.clf()\n",
    "sns.set_style('whitegrid')\n",
    "sns.set_context('paper', font_scale=1.3)\n",
    "ax3 = sns.catplot(kind='count', data=martin_scorese, x='genre', palette=\"pastel\", order=martin_scorese.genre.value_counts().index)\n",
    "ax3.fig.set_figwidth(15)\n",
    "ax3.fig.set_figheight(8)\n",
    "plt.title('Martin Scorese Movie Genre Distribution')\n",
    "plt.show()"
   ]
  },
  {
   "cell_type": "markdown",
   "id": "cbac62ed",
   "metadata": {},
   "source": [
    "Out of the seven R rated movies Martin Scorese directed, there are three Biography movies, three Crime movies, and one Mystery movie."
   ]
  },
  {
   "cell_type": "markdown",
   "id": "ce013929",
   "metadata": {},
   "source": [
    "#### Movie Genre"
   ]
  },
  {
   "cell_type": "code",
   "execution_count": 243,
   "id": "ebb0fdb4",
   "metadata": {},
   "outputs": [
    {
     "data": {
      "text/plain": [
       "<Figure size 432x288 with 0 Axes>"
      ]
     },
     "metadata": {},
     "output_type": "display_data"
    },
    {
     "data": {
      "image/png": "[encoded data removed]",
      "text/plain": [
       "<Figure size 1080x576 with 1 Axes>"
      ]
     },
     "metadata": {},
     "output_type": "display_data"
    }
   ],
   "source": [
    "plt.clf()\n",
    "sns.set_style('whitegrid')\n",
    "sns.set_context('paper', font_scale=1.3)\n",
    "ax4 = sns.catplot(kind='count', data=top250_movies, x='genre', palette='pastel', order=top250_movies.genre.value_counts().index)\n",
    "ax4.fig.set_figwidth(15)\n",
    "ax4.fig.set_figheight(8)\n",
    "plt.title('IMDb Top 250 Movies Genre Distribution')\n",
    "plt.show()"
   ]
  },
  {
   "cell_type": "markdown",
   "id": "b3ec7599",
   "metadata": {},
   "source": [
    "From the bar chart above, we can see that out of 250 top movies on IMDb, drama movies account for 70 of them, the most for all genres. Mystery, horror, western, and film-noir are all under 10 movies."
   ]
  },
  {
   "cell_type": "code",
   "execution_count": 240,
   "id": "95c2d64b",
   "metadata": {},
   "outputs": [
    {
     "data": {
      "text/plain": [
       "<Figure size 432x288 with 0 Axes>"
      ]
     },
     "metadata": {},
     "output_type": "display_data"
    },
    {
     "data": {
      "image/png": "[encoded data removed]",
      "text/plain": [
       "<Figure size 1080x576 with 1 Axes>"
      ]
     },
     "metadata": {},
     "output_type": "display_data"
    }
   ],
   "source": [
    "plt.clf()\n",
    "sns.set_context('paper', font_scale=1.3)\n",
    "sns.set_style('whitegrid')\n",
    "ax2 = sns.catplot(kind='box', data=top250_movies, x='genre', y='runtime_in_minutes', palette='pastel')\n",
    "ax2.fig.set_figwidth(15)\n",
    "ax2.fig.set_figheight(8)\n",
    "plt.title('IMDb Top 250 Movies Genres and Runtimes')\n",
    "plt.show()"
   ]
  },
  {
   "cell_type": "markdown",
   "id": "2b26a232",
   "metadata": {},
   "source": [
    "From the side-by-side box plot, we can see:\n",
    "1. Drame, crime, action, biography, and adventure have similar interquartile range, indicating 50% of the runtimes of these genres' movies are in the 105- to 160-minute range.\n",
    "2. Comedy and animation have much shorter runtime compared to the genres mentioned in number 1.\n",
    "3. Horror, western, and mystery genres, each genre's runtime is closely distributed."
   ]
  },
  {
   "cell_type": "code",
   "execution_count": null,
   "id": "6318a6fe",
   "metadata": {},
   "outputs": [],
   "source": []
  }
 ],
 "metadata": {
  "kernelspec": {
   "display_name": "Python 3",
   "language": "python",
   "name": "python3"
  },
  "language_info": {
   "codemirror_mode": {
    "name": "ipython",
    "version": 3
   },
   "file_extension": ".py",
   "mimetype": "text/x-python",
   "name": "python",
   "nbconvert_exporter": "python",
   "pygments_lexer": "ipython3",
   "version": "3.8.8"
  }
 },
 "nbformat": 4,
 "nbformat_minor": 5
}

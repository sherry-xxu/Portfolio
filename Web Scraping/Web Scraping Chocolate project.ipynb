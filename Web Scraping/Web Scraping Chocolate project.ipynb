{
 "cells": [
  {
   "cell_type": "code",
   "execution_count": 2,
   "id": "30a98824",
   "metadata": {},
   "outputs": [],
   "source": [
    "from bs4 import BeautifulSoup\n",
    "import requests\n",
    "import pandas as pd\n",
    "import matplotlib.pyplot as plt\n",
    "import numpy as np"
   ]
  },
  {
   "cell_type": "code",
   "execution_count": 3,
   "id": "02f2838f",
   "metadata": {},
   "outputs": [],
   "source": [
    "url = 'https://content.codecademy.com/courses/beautifulsoup/cacao/index.html'\n",
    "\n",
    "page = requests.get(url)\n",
    "soup = BeautifulSoup(page.text, 'html.parser')"
   ]
  },
  {
   "cell_type": "code",
   "execution_count": 4,
   "id": "03587a9b",
   "metadata": {},
   "outputs": [],
   "source": [
    "#create column names for the DataFrame from the table header\n",
    "column_names = []\n",
    "all_tr_tag = soup.find_all('tr')\n",
    "\n",
    "headers = all_tr_tag[2].find_all('td')\n",
    "for td in headers:\n",
    "  column_names.append(td.get_text())\n",
    "\n",
    "final_column_names = []\n",
    "for name in column_names:\n",
    "  name = name.strip()\n",
    "  name = name.replace('\\n', \"\")\n",
    "  #the code below will remove all spaces and leave the string with one word one space\n",
    "  name = ' '.join(name.split())\n",
    "  final_column_names.append(name.strip())\n",
    "\n",
    "# print(final_column_names) \n",
    "\n",
    "final_df = pd.DataFrame(columns=final_column_names)"
   ]
  },
  {
   "cell_type": "code",
   "execution_count": 34,
   "id": "883d5431",
   "metadata": {},
   "outputs": [],
   "source": [
    "#put all ratings into a list\n",
    "rating_list = []\n",
    "ratings = soup.find_all('td', attrs = {'class': 'Rating'})\n",
    "for rating in ratings[1:]:\n",
    "  rating_list.append(rating.get_text())\n",
    "#convert strings into floats\n",
    "final_rating_list = [float(i) for i in rating_list]\n",
    "#print(final_rating_list)"
   ]
  },
  {
   "cell_type": "code",
   "execution_count": 6,
   "id": "a8cebb39",
   "metadata": {},
   "outputs": [],
   "source": [
    "#put all companies in a list\n",
    "company_list = []\n",
    "companies = soup.find_all('td', attrs = {'class': 'Company'})\n",
    "for company in companies[1:]:\n",
    "  company_list.append(company.get_text())\n",
    "#print(company_list)"
   ]
  },
  {
   "cell_type": "code",
   "execution_count": 7,
   "id": "300ca78c",
   "metadata": {},
   "outputs": [],
   "source": [
    "#put all bean origin in a list\n",
    "bean_origin = []\n",
    "bean_origins = soup.find_all('td', attrs = {'class': 'Origin'})\n",
    "for origin in bean_origins[1:]:\n",
    "  bean_origin.append(origin.get_text())\n",
    "#print(bean_origin)"
   ]
  },
  {
   "cell_type": "code",
   "execution_count": 8,
   "id": "9171ca5f",
   "metadata": {},
   "outputs": [],
   "source": [
    "ref_list = []\n",
    "refs = soup.find_all('td', attrs = {'class': 'REF'})\n",
    "for year in refs[1:]:\n",
    "  ref_list.append(int(year.get_text()))"
   ]
  },
  {
   "cell_type": "code",
   "execution_count": 9,
   "id": "705ffafa",
   "metadata": {},
   "outputs": [],
   "source": [
    "#all review date in a list\n",
    "review_date_list = []\n",
    "review_dates = soup.find_all('td', attrs = {'class': 'ReviewDate'})\n",
    "for dates in review_dates[1:]:\n",
    "  review_date_list.append(int(dates.get_text()))\n",
    "#print(review_date_list)"
   ]
  },
  {
   "cell_type": "code",
   "execution_count": 10,
   "id": "ae6034ac",
   "metadata": {},
   "outputs": [],
   "source": [
    "#all cocoa percent in a list\n",
    "cocoa_percent_list = []\n",
    "cocoa_percents = soup.find_all('td', attrs = {'class': 'CocoaPercent'})\n",
    "for percent in cocoa_percents[1:]:\n",
    "  percent = percent.get_text()\n",
    "  percent = percent.replace('%', '')\n",
    "  cocoa_percent_list.append(float(percent))\n",
    "#print(cocoa_percent_list)"
   ]
  },
  {
   "cell_type": "code",
   "execution_count": 11,
   "id": "7e61321e",
   "metadata": {},
   "outputs": [],
   "source": [
    "#all locations in a list\n",
    "location_list = []\n",
    "locations = soup.find_all('td', attrs = {'class': 'CompanyLocation'})\n",
    "for location in locations[1:]:\n",
    "  location_list.append(location.get_text())\n",
    "#print(location_list)"
   ]
  },
  {
   "cell_type": "code",
   "execution_count": 12,
   "id": "6c57eed8",
   "metadata": {},
   "outputs": [],
   "source": [
    "#all bean types in a list\n",
    "bean_type_list = []\n",
    "bean_types = soup.find_all('td', attrs = {'class': 'BeanType'})\n",
    "for bean_type in bean_types[1:]:\n",
    "  bean_type = bean_type.get_text()\n",
    "  bean_type = bean_type.strip()\n",
    "  bean_type_list.append(bean_type)\n",
    "#print(bean_type_list)"
   ]
  },
  {
   "cell_type": "code",
   "execution_count": 13,
   "id": "43334bb0",
   "metadata": {},
   "outputs": [],
   "source": [
    "#all broad bean origin in a list\n",
    "broad_bean_origin_list = []\n",
    "broad_bean_origins = soup.find_all('td', attrs = {'class': 'BroadBeanOrigin'})\n",
    "for origin in broad_bean_origins[1:]:\n",
    "  origin = origin.get_text()\n",
    "  origin = origin.strip()\n",
    "  broad_bean_origin_list.append(origin)\n",
    "#print(broad_bean_origin_list)"
   ]
  },
  {
   "cell_type": "code",
   "execution_count": 36,
   "id": "9d231688",
   "metadata": {},
   "outputs": [],
   "source": [
    "cacao_dict = {\n",
    "  'company': company_list, \n",
    "  'specific_bean_origin_or_bar_name': bean_origin, \n",
    "  'ref': ref_list, \n",
    "  'review_date': review_date_list, \n",
    "  'cocoa_percent': cocoa_percent_list, \n",
    "  'company_location': location_list, \n",
    "  'rating': final_rating_list,\n",
    "  'bean_type': bean_type_list,\n",
    "  'broad_bean_origin': broad_bean_origin_list}\n",
    "#print(cacao_dict)"
   ]
  },
  {
   "cell_type": "code",
   "execution_count": 37,
   "id": "59c28f02",
   "metadata": {},
   "outputs": [
    {
     "data": {
      "text/html": [
       "<div>\n",
       "<style scoped>\n",
       "    .dataframe tbody tr th:only-of-type {\n",
       "        vertical-align: middle;\n",
       "    }\n",
       "\n",
       "    .dataframe tbody tr th {\n",
       "        vertical-align: top;\n",
       "    }\n",
       "\n",
       "    .dataframe thead th {\n",
       "        text-align: right;\n",
       "    }\n",
       "</style>\n",
       "<table border=\"1\" class=\"dataframe\">\n",
       "  <thead>\n",
       "    <tr style=\"text-align: right;\">\n",
       "      <th></th>\n",
       "      <th>company</th>\n",
       "      <th>specific_bean_origin_or_bar_name</th>\n",
       "      <th>ref</th>\n",
       "      <th>review_date</th>\n",
       "      <th>cocoa_percent</th>\n",
       "      <th>company_location</th>\n",
       "      <th>rating</th>\n",
       "      <th>bean_type</th>\n",
       "      <th>broad_bean_origin</th>\n",
       "    </tr>\n",
       "  </thead>\n",
       "  <tbody>\n",
       "    <tr>\n",
       "      <th>0</th>\n",
       "      <td>A. Morin</td>\n",
       "      <td>Agua Grande</td>\n",
       "      <td>1876</td>\n",
       "      <td>2016</td>\n",
       "      <td>63.0</td>\n",
       "      <td>France</td>\n",
       "      <td>3.75</td>\n",
       "      <td></td>\n",
       "      <td>Sao Tome</td>\n",
       "    </tr>\n",
       "    <tr>\n",
       "      <th>1</th>\n",
       "      <td>A. Morin</td>\n",
       "      <td>Kpime</td>\n",
       "      <td>1676</td>\n",
       "      <td>2015</td>\n",
       "      <td>70.0</td>\n",
       "      <td>France</td>\n",
       "      <td>2.75</td>\n",
       "      <td></td>\n",
       "      <td>Togo</td>\n",
       "    </tr>\n",
       "    <tr>\n",
       "      <th>2</th>\n",
       "      <td>A. Morin</td>\n",
       "      <td>Atsane</td>\n",
       "      <td>1676</td>\n",
       "      <td>2015</td>\n",
       "      <td>70.0</td>\n",
       "      <td>France</td>\n",
       "      <td>3.00</td>\n",
       "      <td></td>\n",
       "      <td>Togo</td>\n",
       "    </tr>\n",
       "    <tr>\n",
       "      <th>3</th>\n",
       "      <td>A. Morin</td>\n",
       "      <td>Akata</td>\n",
       "      <td>1680</td>\n",
       "      <td>2015</td>\n",
       "      <td>70.0</td>\n",
       "      <td>France</td>\n",
       "      <td>3.50</td>\n",
       "      <td></td>\n",
       "      <td>Togo</td>\n",
       "    </tr>\n",
       "    <tr>\n",
       "      <th>4</th>\n",
       "      <td>A. Morin</td>\n",
       "      <td>Quilla</td>\n",
       "      <td>1704</td>\n",
       "      <td>2015</td>\n",
       "      <td>70.0</td>\n",
       "      <td>France</td>\n",
       "      <td>3.50</td>\n",
       "      <td></td>\n",
       "      <td>Peru</td>\n",
       "    </tr>\n",
       "  </tbody>\n",
       "</table>\n",
       "</div>"
      ],
      "text/plain": [
       "    company specific_bean_origin_or_bar_name   ref  review_date  \\\n",
       "0  A. Morin                      Agua Grande  1876         2016   \n",
       "1  A. Morin                            Kpime  1676         2015   \n",
       "2  A. Morin                           Atsane  1676         2015   \n",
       "3  A. Morin                            Akata  1680         2015   \n",
       "4  A. Morin                           Quilla  1704         2015   \n",
       "\n",
       "   cocoa_percent company_location  rating bean_type broad_bean_origin  \n",
       "0           63.0           France    3.75                    Sao Tome  \n",
       "1           70.0           France    2.75                        Togo  \n",
       "2           70.0           France    3.00                        Togo  \n",
       "3           70.0           France    3.50                        Togo  \n",
       "4           70.0           France    3.50                        Peru  "
      ]
     },
     "execution_count": 37,
     "metadata": {},
     "output_type": "execute_result"
    }
   ],
   "source": [
    "cacao_df= pd.DataFrame.from_dict(cacao_dict)\n",
    "cacao_df.head()"
   ]
  },
  {
   "cell_type": "code",
   "execution_count": 32,
   "id": "99107cd2",
   "metadata": {},
   "outputs": [
    {
     "data": {
      "text/plain": [
       "company\n",
       "Tobago Estate (Pralus)                  4.000000\n",
       "Heirloom Cacao Preservation (Zokoko)    3.875000\n",
       "Ocelot                                  3.875000\n",
       "Amedei                                  3.846154\n",
       "Matale                                  3.812500\n",
       "Patric                                  3.791667\n",
       "Idilio (Felchlin)                       3.775000\n",
       "Acalli                                  3.750000\n",
       "Chocola'te                              3.750000\n",
       "Christopher Morel (Felchlin)            3.750000\n",
       "Name: rating, dtype: float64"
      ]
     },
     "execution_count": 32,
     "metadata": {},
     "output_type": "execute_result"
    }
   ],
   "source": [
    "#top 10 highest rated chocolatiers\n",
    "##by using dtype(), I found out that rating column's type is object, so in order to calculate the mean, \n",
    "##I need to convert the column with .to_numeric()\n",
    "# cacao_df1 = pd.to_numeric(cacao_df['rating']).groupby(cacao_df['company'])\n",
    "# cacao_df1.mean().nlargest(10)"
   ]
  },
  {
   "cell_type": "code",
   "execution_count": 39,
   "id": "506525e9",
   "metadata": {},
   "outputs": [
    {
     "data": {
      "text/plain": [
       "company\n",
       "Tobago Estate (Pralus)                  4.000000\n",
       "Heirloom Cacao Preservation (Zokoko)    3.875000\n",
       "Ocelot                                  3.875000\n",
       "Amedei                                  3.846154\n",
       "Matale                                  3.812500\n",
       "Patric                                  3.791667\n",
       "Idilio (Felchlin)                       3.775000\n",
       "Acalli                                  3.750000\n",
       "Chocola'te                              3.750000\n",
       "Christopher Morel (Felchlin)            3.750000\n",
       "Name: rating, dtype: float64"
      ]
     },
     "execution_count": 39,
     "metadata": {},
     "output_type": "execute_result"
    }
   ],
   "source": [
    "#top 10 highest rated chocolatiers\n",
    "cacao_df.groupby('company').rating.mean().nlargest(10)"
   ]
  },
  {
   "cell_type": "code",
   "execution_count": 41,
   "id": "6b3a77d1",
   "metadata": {},
   "outputs": [
    {
     "data": {
      "text/plain": [
       "cocoa_percent\n",
       "50.0    3.750000\n",
       "63.0    3.604167\n",
       "69.0    3.500000\n",
       "66.0    3.380435\n",
       "67.0    3.351852\n",
       "78.0    3.338235\n",
       "68.0    3.287234\n",
       "70.0    3.276042\n",
       "56.0    3.250000\n",
       "86.0    3.250000\n",
       "Name: rating, dtype: float64"
      ]
     },
     "execution_count": 41,
     "metadata": {},
     "output_type": "execute_result"
    }
   ],
   "source": [
    "#is more cocoa better?\n",
    "cacao_df.groupby('cocoa_percent').rating.mean().nlargest(10)"
   ]
  },
  {
   "cell_type": "code",
   "execution_count": null,
   "id": "23f6393d",
   "metadata": {},
   "outputs": [],
   "source": []
  }
 ],
 "metadata": {
  "kernelspec": {
   "display_name": "Python 3",
   "language": "python",
   "name": "python3"
  },
  "language_info": {
   "codemirror_mode": {
    "name": "ipython",
    "version": 3
   },
   "file_extension": ".py",
   "mimetype": "text/x-python",
   "name": "python",
   "nbconvert_exporter": "python",
   "pygments_lexer": "ipython3",
   "version": "3.8.8"
  }
 },
 "nbformat": 4,
 "nbformat_minor": 5
}
